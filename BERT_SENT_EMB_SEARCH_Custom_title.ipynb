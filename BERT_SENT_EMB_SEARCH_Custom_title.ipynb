{
  "nbformat": 4,
  "nbformat_minor": 0,
  "metadata": {
    "colab": {
      "name": " BERT_SENT_EMB_SEARCH_Custom.ipynb",
      "provenance": [],
      "authorship_tag": "ABX9TyONLsMZpQS0DzmrN7p5Hkyz",
      "include_colab_link": true
    },
    "kernelspec": {
      "name": "python3",
      "display_name": "Python 3"
    },
    "accelerator": "TPU"
  },
  "cells": [
    {
      "cell_type": "markdown",
      "metadata": {
        "id": "view-in-github",
        "colab_type": "text"
      },
      "source": [
        "<a href=\"https://colab.research.google.com/github/Orneyfish/Orney/blob/master/BERT_SENT_EMB_SEARCH_Custom_title.ipynb\" target=\"_parent\"><img src=\"https://colab.research.google.com/assets/colab-badge.svg\" alt=\"Open In Colab\"/></a>"
      ]
    },
    {
      "cell_type": "code",
      "metadata": {
        "id": "icQPQWArcgaU",
        "colab_type": "code",
        "outputId": "f25b90e3-e339-429e-fbb7-18c51c65990d",
        "colab": {
          "base_uri": "https://localhost:8080/",
          "height": 188
        }
      },
      "source": [
        "! pip install bert-serving-server bert-serving-client\n",
        "! pip install tensorflow-gpu==1.14.0-rc0"
      ],
      "execution_count": 0,
      "outputs": [
        {
          "output_type": "stream",
          "text": [
            "Requirement already satisfied: bert-serving-server in /usr/local/lib/python3.6/dist-packages (1.10.0)\n",
            "Requirement already satisfied: bert-serving-client in /usr/local/lib/python3.6/dist-packages (1.10.0)\n",
            "Requirement already satisfied: GPUtil>=1.3.0 in /usr/local/lib/python3.6/dist-packages (from bert-serving-server) (1.4.0)\n",
            "Requirement already satisfied: six in /usr/local/lib/python3.6/dist-packages (from bert-serving-server) (1.12.0)\n",
            "Requirement already satisfied: termcolor>=1.1 in /usr/local/lib/python3.6/dist-packages (from bert-serving-server) (1.1.0)\n",
            "Requirement already satisfied: numpy in /usr/local/lib/python3.6/dist-packages (from bert-serving-server) (1.18.3)\n",
            "Requirement already satisfied: pyzmq>=17.1.0 in /usr/local/lib/python3.6/dist-packages (from bert-serving-server) (19.0.0)\n",
            "\u001b[31mERROR: Could not find a version that satisfies the requirement tensorflow-gpu==1.14.0-rc0 (from versions: 0.12.1, 1.0.0, 1.0.1, 1.1.0, 1.2.0, 1.2.1, 1.3.0, 1.4.0, 1.4.1, 1.5.0, 1.5.1, 1.6.0, 1.7.0, 1.7.1, 1.8.0, 1.9.0, 1.10.0, 1.10.1, 1.11.0, 1.12.0, 1.12.2, 1.12.3, 1.13.1, 1.13.2, 1.14.0, 1.15.0rc0, 1.15.0rc1, 1.15.0rc2, 1.15.0rc3, 1.15.0, 1.15.2, 2.0.0a0, 2.0.0b0, 2.0.0b1, 2.0.0rc0, 2.0.0rc1, 2.0.0rc2, 2.0.0, 2.0.1, 2.1.0rc0, 2.1.0rc1, 2.1.0rc2, 2.1.0, 2.2.0rc0, 2.2.0rc1, 2.2.0rc2, 2.2.0rc3)\u001b[0m\n",
            "\u001b[31mERROR: No matching distribution found for tensorflow-gpu==1.14.0-rc0\u001b[0m\n"
          ],
          "name": "stdout"
        }
      ]
    },
    {
      "cell_type": "code",
      "metadata": {
        "id": "cnSxPbkxhpsv",
        "colab_type": "code",
        "outputId": "ebc54667-389f-492a-caf8-5668eed8cebf",
        "colab": {
          "base_uri": "https://localhost:8080/",
          "height": 34
        }
      },
      "source": [
        "! pip install wget"
      ],
      "execution_count": 0,
      "outputs": [
        {
          "output_type": "stream",
          "text": [
            "Requirement already satisfied: wget in /usr/local/lib/python3.6/dist-packages (3.2)\n"
          ],
          "name": "stdout"
        }
      ]
    },
    {
      "cell_type": "code",
      "metadata": {
        "id": "mi5R5eAAsLwJ",
        "colab_type": "code",
        "outputId": "5b6e194f-dcc0-43a5-8bff-bbfbefa1412f",
        "colab": {
          "base_uri": "https://localhost:8080/",
          "height": 507
        }
      },
      "source": [
        "# Install the library using pip\n",
        "!pip install sentence-transformers"
      ],
      "execution_count": 65,
      "outputs": [
        {
          "output_type": "stream",
          "text": [
            "Requirement already satisfied: sentence-transformers in /usr/local/lib/python3.6/dist-packages (0.2.6.1)\n",
            "Requirement already satisfied: transformers>=2.8.0 in /usr/local/lib/python3.6/dist-packages (from sentence-transformers) (2.8.0)\n",
            "Requirement already satisfied: nltk in /usr/local/lib/python3.6/dist-packages (from sentence-transformers) (3.2.5)\n",
            "Requirement already satisfied: scipy in /usr/local/lib/python3.6/dist-packages (from sentence-transformers) (1.4.1)\n",
            "Requirement already satisfied: numpy in /usr/local/lib/python3.6/dist-packages (from sentence-transformers) (1.18.3)\n",
            "Requirement already satisfied: tqdm in /usr/local/lib/python3.6/dist-packages (from sentence-transformers) (4.38.0)\n",
            "Requirement already satisfied: scikit-learn in /usr/local/lib/python3.6/dist-packages (from sentence-transformers) (0.22.2.post1)\n",
            "Requirement already satisfied: torch>=1.0.1 in /usr/local/lib/python3.6/dist-packages (from sentence-transformers) (1.4.0)\n",
            "Requirement already satisfied: sentencepiece in /usr/local/lib/python3.6/dist-packages (from transformers>=2.8.0->sentence-transformers) (0.1.86)\n",
            "Requirement already satisfied: dataclasses; python_version < \"3.7\" in /usr/local/lib/python3.6/dist-packages (from transformers>=2.8.0->sentence-transformers) (0.7)\n",
            "Requirement already satisfied: filelock in /usr/local/lib/python3.6/dist-packages (from transformers>=2.8.0->sentence-transformers) (3.0.12)\n",
            "Requirement already satisfied: sacremoses in /usr/local/lib/python3.6/dist-packages (from transformers>=2.8.0->sentence-transformers) (0.0.41)\n",
            "Requirement already satisfied: tokenizers==0.5.2 in /usr/local/lib/python3.6/dist-packages (from transformers>=2.8.0->sentence-transformers) (0.5.2)\n",
            "Requirement already satisfied: boto3 in /usr/local/lib/python3.6/dist-packages (from transformers>=2.8.0->sentence-transformers) (1.12.43)\n",
            "Requirement already satisfied: regex!=2019.12.17 in /usr/local/lib/python3.6/dist-packages (from transformers>=2.8.0->sentence-transformers) (2019.12.20)\n",
            "Requirement already satisfied: requests in /usr/local/lib/python3.6/dist-packages (from transformers>=2.8.0->sentence-transformers) (2.21.0)\n",
            "Requirement already satisfied: six in /usr/local/lib/python3.6/dist-packages (from nltk->sentence-transformers) (1.12.0)\n",
            "Requirement already satisfied: joblib>=0.11 in /usr/local/lib/python3.6/dist-packages (from scikit-learn->sentence-transformers) (0.14.1)\n",
            "Requirement already satisfied: click in /usr/local/lib/python3.6/dist-packages (from sacremoses->transformers>=2.8.0->sentence-transformers) (7.1.1)\n",
            "Requirement already satisfied: jmespath<1.0.0,>=0.7.1 in /usr/local/lib/python3.6/dist-packages (from boto3->transformers>=2.8.0->sentence-transformers) (0.9.5)\n",
            "Requirement already satisfied: s3transfer<0.4.0,>=0.3.0 in /usr/local/lib/python3.6/dist-packages (from boto3->transformers>=2.8.0->sentence-transformers) (0.3.3)\n",
            "Requirement already satisfied: botocore<1.16.0,>=1.15.43 in /usr/local/lib/python3.6/dist-packages (from boto3->transformers>=2.8.0->sentence-transformers) (1.15.43)\n",
            "Requirement already satisfied: idna<2.9,>=2.5 in /usr/local/lib/python3.6/dist-packages (from requests->transformers>=2.8.0->sentence-transformers) (2.8)\n",
            "Requirement already satisfied: certifi>=2017.4.17 in /usr/local/lib/python3.6/dist-packages (from requests->transformers>=2.8.0->sentence-transformers) (2020.4.5.1)\n",
            "Requirement already satisfied: chardet<3.1.0,>=3.0.2 in /usr/local/lib/python3.6/dist-packages (from requests->transformers>=2.8.0->sentence-transformers) (3.0.4)\n",
            "Requirement already satisfied: urllib3<1.25,>=1.21.1 in /usr/local/lib/python3.6/dist-packages (from requests->transformers>=2.8.0->sentence-transformers) (1.24.3)\n",
            "Requirement already satisfied: python-dateutil<3.0.0,>=2.1 in /usr/local/lib/python3.6/dist-packages (from botocore<1.16.0,>=1.15.43->boto3->transformers>=2.8.0->sentence-transformers) (2.8.1)\n",
            "Requirement already satisfied: docutils<0.16,>=0.10 in /usr/local/lib/python3.6/dist-packages (from botocore<1.16.0,>=1.15.43->boto3->transformers>=2.8.0->sentence-transformers) (0.15.2)\n"
          ],
          "name": "stdout"
        }
      ]
    },
    {
      "cell_type": "code",
      "metadata": {
        "id": "jnj1qZGSsTTi",
        "colab_type": "code",
        "colab": {}
      },
      "source": [
        "from sentence_transformers import SentenceTransformer\n",
        "\n",
        "# Load the BERT model. Various models trained on Natural Language Inference (NLI) https://github.com/UKPLab/sentence-transformers/blob/master/docs/pretrained-models/nli-models.md and \n",
        "# Semantic Textual Similarity are available https://github.com/UKPLab/sentence-transformers/blob/master/docs/pretrained-models/sts-models.md\n",
        "\n",
        "model = SentenceTransformer('bert-base-nli-mean-tokens')"
      ],
      "execution_count": 0,
      "outputs": []
    },
    {
      "cell_type": "code",
      "metadata": {
        "id": "Bj6W7LJazag3",
        "colab_type": "code",
        "outputId": "be43dfac-b88b-4c83-ff67-d57f7477c67c",
        "colab": {
          "base_uri": "https://localhost:8080/",
          "height": 377
        }
      },
      "source": [
        "import pandas as pd\n",
        "\n",
        "# Load the dataset into a pandas dataframe.\n",
        "df = pd.read_csv(\"/content/title.csv\", delimiter='\\t', header=None, names=['title', 'abstract', 'body_text'] )\n",
        "\n",
        "# Report the number of sentences.\n",
        "print('Number of training sentences: {:,}\\n'.format(df.shape[0]))\n",
        "\n",
        "# Display 10 random rows from the data.\n",
        "df.sample(10)"
      ],
      "execution_count": 89,
      "outputs": [
        {
          "output_type": "stream",
          "text": [
            "Number of training sentences: 12\n",
            "\n"
          ],
          "name": "stdout"
        },
        {
          "output_type": "execute_result",
          "data": {
            "text/html": [
              "<div>\n",
              "<style scoped>\n",
              "    .dataframe tbody tr th:only-of-type {\n",
              "        vertical-align: middle;\n",
              "    }\n",
              "\n",
              "    .dataframe tbody tr th {\n",
              "        vertical-align: top;\n",
              "    }\n",
              "\n",
              "    .dataframe thead th {\n",
              "        text-align: right;\n",
              "    }\n",
              "</style>\n",
              "<table border=\"1\" class=\"dataframe\">\n",
              "  <thead>\n",
              "    <tr style=\"text-align: right;\">\n",
              "      <th></th>\n",
              "      <th>title</th>\n",
              "      <th>abstract</th>\n",
              "      <th>body_text</th>\n",
              "    </tr>\n",
              "  </thead>\n",
              "  <tbody>\n",
              "    <tr>\n",
              "      <th>5</th>\n",
              "      <td>Journal Pre-proof What Should Gastroenterologi...</td>\n",
              "      <td>NaN</td>\n",
              "      <td>NaN</td>\n",
              "    </tr>\n",
              "    <tr>\n",
              "      <th>11</th>\n",
              "      <td>Does genetic diversity limit disease spread in...</td>\n",
              "      <td>NaN</td>\n",
              "      <td>NaN</td>\n",
              "    </tr>\n",
              "    <tr>\n",
              "      <th>3</th>\n",
              "      <td>The Impact of Host-Based Early Warning on Dise...</td>\n",
              "      <td>NaN</td>\n",
              "      <td>NaN</td>\n",
              "    </tr>\n",
              "    <tr>\n",
              "      <th>10</th>\n",
              "      <td>When are pathogen genome sequences informative...</td>\n",
              "      <td>NaN</td>\n",
              "      <td>NaN</td>\n",
              "    </tr>\n",
              "    <tr>\n",
              "      <th>8</th>\n",
              "      <td>viruses Can Bats Serve as Reservoirs for Arbov...</td>\n",
              "      <td>NaN</td>\n",
              "      <td>NaN</td>\n",
              "    </tr>\n",
              "    <tr>\n",
              "      <th>7</th>\n",
              "      <td>Dengue Virus Glycosylation: What Do We Know?</td>\n",
              "      <td>NaN</td>\n",
              "      <td>NaN</td>\n",
              "    </tr>\n",
              "    <tr>\n",
              "      <th>4</th>\n",
              "      <td>Allergologia et immunopathologia Does atopy af...</td>\n",
              "      <td>NaN</td>\n",
              "      <td>NaN</td>\n",
              "    </tr>\n",
              "    <tr>\n",
              "      <th>6</th>\n",
              "      <td>Pacific Observatory on Health Systems and Poli...</td>\n",
              "      <td>NaN</td>\n",
              "      <td>NaN</td>\n",
              "    </tr>\n",
              "    <tr>\n",
              "      <th>2</th>\n",
              "      <td>Comment 760 www</td>\n",
              "      <td>NaN</td>\n",
              "      <td>NaN</td>\n",
              "    </tr>\n",
              "    <tr>\n",
              "      <th>1</th>\n",
              "      <td>Systematic review Does reduced MHC diversity d...</td>\n",
              "      <td>NaN</td>\n",
              "      <td>NaN</td>\n",
              "    </tr>\n",
              "  </tbody>\n",
              "</table>\n",
              "</div>"
            ],
            "text/plain": [
              "                                                title  abstract  body_text\n",
              "5   Journal Pre-proof What Should Gastroenterologi...       NaN        NaN\n",
              "11  Does genetic diversity limit disease spread in...       NaN        NaN\n",
              "3   The Impact of Host-Based Early Warning on Dise...       NaN        NaN\n",
              "10  When are pathogen genome sequences informative...       NaN        NaN\n",
              "8   viruses Can Bats Serve as Reservoirs for Arbov...       NaN        NaN\n",
              "7        Dengue Virus Glycosylation: What Do We Know?       NaN        NaN\n",
              "4   Allergologia et immunopathologia Does atopy af...       NaN        NaN\n",
              "6   Pacific Observatory on Health Systems and Poli...       NaN        NaN\n",
              "2                                     Comment 760 www       NaN        NaN\n",
              "1   Systematic review Does reduced MHC diversity d...       NaN        NaN"
            ]
          },
          "metadata": {
            "tags": []
          },
          "execution_count": 89
        }
      ]
    },
    {
      "cell_type": "code",
      "metadata": {
        "id": "J-0cduJbziwH",
        "colab_type": "code",
        "outputId": "3a42f58a-0882-4662-d615-768567814155",
        "colab": {
          "base_uri": "https://localhost:8080/",
          "height": 195
        }
      },
      "source": [
        "df.sample(5)[['title', 'body_text']]"
      ],
      "execution_count": 90,
      "outputs": [
        {
          "output_type": "execute_result",
          "data": {
            "text/html": [
              "<div>\n",
              "<style scoped>\n",
              "    .dataframe tbody tr th:only-of-type {\n",
              "        vertical-align: middle;\n",
              "    }\n",
              "\n",
              "    .dataframe tbody tr th {\n",
              "        vertical-align: top;\n",
              "    }\n",
              "\n",
              "    .dataframe thead th {\n",
              "        text-align: right;\n",
              "    }\n",
              "</style>\n",
              "<table border=\"1\" class=\"dataframe\">\n",
              "  <thead>\n",
              "    <tr style=\"text-align: right;\">\n",
              "      <th></th>\n",
              "      <th>title</th>\n",
              "      <th>body_text</th>\n",
              "    </tr>\n",
              "  </thead>\n",
              "  <tbody>\n",
              "    <tr>\n",
              "      <th>3</th>\n",
              "      <td>The Impact of Host-Based Early Warning on Dise...</td>\n",
              "      <td>NaN</td>\n",
              "    </tr>\n",
              "    <tr>\n",
              "      <th>0</th>\n",
              "      <td>title</td>\n",
              "      <td>NaN</td>\n",
              "    </tr>\n",
              "    <tr>\n",
              "      <th>8</th>\n",
              "      <td>viruses Can Bats Serve as Reservoirs for Arbov...</td>\n",
              "      <td>NaN</td>\n",
              "    </tr>\n",
              "    <tr>\n",
              "      <th>2</th>\n",
              "      <td>Comment 760 www</td>\n",
              "      <td>NaN</td>\n",
              "    </tr>\n",
              "    <tr>\n",
              "      <th>10</th>\n",
              "      <td>When are pathogen genome sequences informative...</td>\n",
              "      <td>NaN</td>\n",
              "    </tr>\n",
              "  </tbody>\n",
              "</table>\n",
              "</div>"
            ],
            "text/plain": [
              "                                                title  body_text\n",
              "3   The Impact of Host-Based Early Warning on Dise...        NaN\n",
              "0                                               title        NaN\n",
              "8   viruses Can Bats Serve as Reservoirs for Arbov...        NaN\n",
              "2                                     Comment 760 www        NaN\n",
              "10  When are pathogen genome sequences informative...        NaN"
            ]
          },
          "metadata": {
            "tags": []
          },
          "execution_count": 90
        }
      ]
    },
    {
      "cell_type": "code",
      "metadata": {
        "id": "PvoW7l6Tznr1",
        "colab_type": "code",
        "colab": {}
      },
      "source": [
        "# Get the lists of sentences and their labels.\n",
        "sentences = df.title.values"
      ],
      "execution_count": 0,
      "outputs": []
    },
    {
      "cell_type": "code",
      "metadata": {
        "id": "X-G24YDeztnI",
        "colab_type": "code",
        "outputId": "fe9daefa-fa04-414a-fbb5-21a988a293f7",
        "colab": {
          "base_uri": "https://localhost:8080/",
          "height": 34
        }
      },
      "source": [
        "from transformers import BertTokenizer\n",
        "\n",
        "# Load the BERT tokenizer.\n",
        "print('Loading BERT tokenizer...')\n",
        "tokenizer = BertTokenizer.from_pretrained('bert-base-uncased', do_lower_case=True)"
      ],
      "execution_count": 92,
      "outputs": [
        {
          "output_type": "stream",
          "text": [
            "Loading BERT tokenizer...\n"
          ],
          "name": "stdout"
        }
      ]
    },
    {
      "cell_type": "code",
      "metadata": {
        "id": "n6ED6t4rzzyv",
        "colab_type": "code",
        "outputId": "76c0e5f3-d2a0-4495-bd23-b0661165f375",
        "colab": {
          "base_uri": "https://localhost:8080/",
          "height": 67
        }
      },
      "source": [
        "# Print the original sentence.\n",
        "print(' Original: ', sentences[0])\n",
        "\n",
        "# Print the sentence split into tokens.\n",
        "print('Tokenized: ', tokenizer.tokenize(sentences[0]))\n",
        "\n",
        "# Print the sentence mapped to token ids.\n",
        "print('Token IDs: ', tokenizer.convert_tokens_to_ids(tokenizer.tokenize(sentences[0])))"
      ],
      "execution_count": 93,
      "outputs": [
        {
          "output_type": "stream",
          "text": [
            " Original:  title\n",
            "Tokenized:  ['title']\n",
            "Token IDs:  [2516]\n"
          ],
          "name": "stdout"
        }
      ]
    },
    {
      "cell_type": "code",
      "metadata": {
        "id": "yd1AHyHMse4X",
        "colab_type": "code",
        "outputId": "05c8a2ed-140b-41c9-badb-7af10896c6e5",
        "colab": {
          "base_uri": "https://localhost:8080/",
          "height": 1000
        }
      },
      "source": [
        "# A corpus is a list with documents split by sentences.\n",
        "\n",
        "# Each sentence is encoded as a 1-D vector with 78 columns\n",
        "sentence_embeddings = model.encode(sentences)\n",
        "\n",
        "print('Sample BERT embedding vector - length', len(sentence_embeddings[0]))\n",
        "\n",
        "print('Sample BERT embedding vector - note includes negative values', sentence_embeddings[0])"
      ],
      "execution_count": 94,
      "outputs": [
        {
          "output_type": "stream",
          "text": [
            "Sample BERT embedding vector - length 768\n",
            "Sample BERT embedding vector - note includes negative values [ 1.15534894e-01 -3.01038295e-01  2.28389716e+00  8.43254983e-01\n",
            "  5.70622921e-01 -3.94892693e-02 -4.96040732e-01  6.58538640e-01\n",
            "  7.37184957e-02  2.53860980e-01 -9.87959683e-01  1.28782347e-01\n",
            "  3.27380925e-01  9.03856695e-01  9.40645695e-01 -2.32353628e-01\n",
            " -7.33541965e-01  1.71956062e-01  2.28647396e-01 -1.06962144e+00\n",
            " -2.43077517e-01  4.92174625e-01  2.93649584e-01 -7.91571617e-01\n",
            "  2.32278958e-01 -6.35309517e-01  1.73399597e-02 -2.23125911e+00\n",
            " -9.74390507e-01 -2.06972525e-01 -1.57009512e-01 -8.45554173e-01\n",
            "  3.28928739e-01  5.80681324e-01  4.10945892e-01  2.51200140e-01\n",
            " -7.88593292e-01  2.28311896e-01 -1.75099373e-01 -4.62637097e-01\n",
            "  1.63711512e+00  1.64804652e-01  1.01361132e+00 -2.05736291e-02\n",
            " -5.98165452e-01 -2.36950994e-01 -2.27621675e-01 -3.79146844e-01\n",
            "  1.27082393e-01 -1.01565158e+00 -7.50274241e-01 -5.68745434e-01\n",
            " -3.15868296e-02  3.78211528e-01 -6.33806810e-02  7.82487169e-02\n",
            "  4.35710341e-01 -4.01915312e-01  2.27205917e-01  6.68239832e-01\n",
            "  7.02693760e-01 -7.74694920e-01  4.59968239e-01  1.20077622e+00\n",
            "  6.95312023e-03  3.74969959e-01  8.45012367e-01 -3.51473808e-01\n",
            " -8.25457633e-01  5.98789513e-01  9.83592808e-01  5.62323034e-02\n",
            "  2.51652122e-01  7.76439905e-03 -1.32267153e+00  5.16010486e-02\n",
            "  4.15167183e-01  6.31827235e-01  7.56711960e-01  6.21005118e-01\n",
            "  7.61409819e-01  2.28249893e-01  1.20595467e+00  3.43273759e-01\n",
            " -4.69798088e-01  9.90808487e-01  2.80548692e-01  4.16916817e-01\n",
            " -1.56351674e+00 -1.35819480e-01  1.97120622e-01  1.89493001e-02\n",
            "  6.26835585e-01  1.25405088e-01  4.15417776e-02 -2.45702669e-01\n",
            "  5.24103403e-01 -3.21748704e-01 -6.21332265e-02 -8.73446405e-01\n",
            " -1.20356691e+00 -1.00403987e-01 -2.44432271e-01 -3.44999045e-01\n",
            " -3.70792776e-01  4.63395566e-03 -2.58800924e-01 -6.27258196e-02\n",
            "  2.81410605e-01  3.06286961e-01 -1.34229347e-01  2.65952557e-01\n",
            "  1.05692756e+00  3.37437183e-01  3.66418809e-01 -2.01901913e-01\n",
            " -1.13948166e+00  3.86378258e-01 -5.62965982e-02  1.03469658e+00\n",
            " -3.07058305e-01  8.66946518e-01 -7.63528168e-01 -6.69162497e-02\n",
            "  9.05846417e-01  1.75297130e-02  2.63458341e-01 -4.24463034e-01\n",
            " -9.75715637e-01 -3.52097392e-01 -4.58896786e-01  4.98778969e-01\n",
            "  1.30084231e-01  2.22470257e-02  2.09745362e-01  4.37554687e-01\n",
            "  2.49704361e-01 -2.11354613e-01  1.07331991e-01 -1.94777668e-01\n",
            " -1.40286648e+00  2.33877242e-01 -1.11395121e+00  4.22161311e-01\n",
            " -1.43323481e-01 -2.01228783e-01  3.55042577e-01  3.46491933e-02\n",
            " -1.42307982e-01  5.87042749e-01 -4.47352856e-01  6.89258337e-01\n",
            " -9.53099057e-02 -5.14927089e-01 -7.27349102e-01 -2.06979468e-01\n",
            "  3.95716876e-02  8.21887076e-01  1.11938506e-01 -2.17541263e-01\n",
            " -4.65172738e-01  7.09186137e-01  6.26208365e-01 -1.74114164e-02\n",
            "  5.72717376e-02 -5.09496145e-02  6.87327385e-01  8.83414149e-02\n",
            "  9.91366133e-02 -5.60907245e-01  3.76189321e-01 -1.18324554e+00\n",
            "  8.18363205e-02 -3.26691031e-01 -6.66365445e-01  7.10983098e-01\n",
            "  1.08218181e+00  1.16624606e+00  1.31539166e+00 -3.40383559e-01\n",
            "  4.99517292e-01  5.15106142e-01  7.64439285e-01 -1.35836279e+00\n",
            " -2.80149460e-01 -9.31316614e-02 -5.42469025e-01 -9.72977281e-02\n",
            "  7.42642403e-01  4.55049127e-02 -1.76929355e-01 -5.28390706e-01\n",
            " -1.73987567e-01 -1.06703901e+00 -8.31467379e-03 -4.25199755e-02\n",
            "  2.45469809e-01  1.72372222e-01  2.74972375e-02  3.40676516e-01\n",
            "  9.74268258e-01 -4.43791151e-01  4.31403786e-01 -3.50856930e-01\n",
            "  6.56630993e-01  1.03147650e+00 -5.29973805e-01  4.08844471e-01\n",
            "  8.26686203e-01 -6.53228462e-01 -4.47965294e-01  5.64843476e-01\n",
            "  9.56636429e-01 -7.41791427e-02  5.25098979e-01 -6.72686100e-01\n",
            "  1.40051544e+00 -9.17152464e-01 -1.17204952e+00 -2.06540134e-02\n",
            "  1.90884128e-01 -3.39302450e-01  4.92282003e-01  3.33396107e-01\n",
            " -1.37687147e+00  4.47931677e-01  2.99701542e-01 -7.14939415e-01\n",
            " -6.12152576e-01 -7.07412720e-01  6.26218557e-01 -4.96308297e-01\n",
            " -2.13160336e-01  1.00587595e+00  4.42583710e-01  5.33186972e-01\n",
            " -1.34835884e-01 -6.80769145e-01 -2.56749421e-01  2.79113382e-01\n",
            "  7.71601200e-01  7.09876120e-01  4.15296644e-01  3.27889293e-01\n",
            " -1.74859333e+00 -5.03539145e-01  8.59627903e-01  6.03115298e-02\n",
            " -4.23428893e-01  3.16205978e-01  1.30583525e-01 -1.42889559e+00\n",
            "  2.59942710e-02  9.47680846e-02 -3.64728540e-01 -3.29417676e-01\n",
            " -4.82778311e-01 -2.18070939e-01 -2.21211299e-01 -6.59775555e-01\n",
            " -2.03984067e-01  2.94352829e-01 -4.37358469e-01 -1.61522493e-01\n",
            "  3.37337643e-01 -1.86513841e-01 -6.99731708e-02  2.05072388e-01\n",
            "  9.10640359e-02  2.95477301e-01 -4.99429584e-01  1.29893541e-01\n",
            " -2.28916109e-01 -7.48537958e-01  4.87555653e-01 -5.95434606e-02\n",
            "  1.40285909e+00  5.36995947e-01 -4.09244627e-01 -3.09848428e-01\n",
            "  2.07216844e-01 -5.38437128e-01 -1.76882935e+00 -2.20319405e-01\n",
            "  4.56209689e-01 -2.06778109e-01  2.98238486e-01 -9.17958200e-01\n",
            " -1.59047201e-01 -1.56152770e-01 -6.61045492e-01 -3.46496314e-01\n",
            "  2.59919614e-01 -1.03880322e+00  8.10753584e-01 -2.64203578e-01\n",
            "  5.13498545e-01  4.67721522e-02 -1.01086950e+00  5.05456984e-01\n",
            " -5.66859066e-01 -2.77243137e-01 -8.11509132e-01  1.36229649e-01\n",
            "  4.65105534e-01 -5.29845715e-01 -4.25500959e-01  4.91608143e-01\n",
            " -1.83277833e+00 -4.59670633e-01 -1.39496708e+00  1.04681008e-01\n",
            "  2.35956460e-02 -1.31784856e-01  2.40549445e-01  7.09388256e-01\n",
            " -6.22273862e-01  4.26805973e-01  5.96255243e-01 -5.33518791e-01\n",
            " -1.02642298e-01  5.73450923e-01 -7.62946263e-04  2.32533757e-02\n",
            "  2.99236327e-01  5.72046936e-01 -9.25433815e-01  3.55877966e-01\n",
            " -6.71749115e-01 -1.90053806e-01  5.42969704e-01 -8.78225148e-01\n",
            " -3.80335569e-01  5.20673275e-01 -1.24747157e-01  1.25722587e+00\n",
            " -4.55648512e-01 -9.33665574e-01  3.82503718e-01  3.96963269e-01\n",
            "  2.18989160e-02  1.44617930e-01 -2.10753143e-01 -5.82220733e-01\n",
            "  1.50168002e+00 -7.97508538e-01  3.63242388e-01 -1.24232221e+00\n",
            "  6.73218489e-01 -3.42220694e-01 -1.77850366e-01  1.45243540e-01\n",
            " -5.60672224e-01  8.41263458e-02 -4.27312702e-01 -1.53731868e-01\n",
            "  2.59565860e-01 -3.80989432e-01 -9.88189355e-02  3.59979779e-01\n",
            " -1.40018776e-01 -2.59456128e-01 -5.71531534e-01  3.02356154e-01\n",
            " -2.71892071e-01 -3.34614038e-01  9.13957357e-01  1.97448447e-01\n",
            "  1.66129160e+00  7.89185241e-02  1.01160812e+00 -7.15365112e-01\n",
            " -1.75984815e-01  2.26137519e-01 -1.97340325e-01  1.06835991e-01\n",
            "  3.82634014e-01 -3.96904796e-01 -2.65922099e-01 -6.54364109e-01\n",
            "  7.00026929e-01 -7.74569988e-01 -4.50541049e-01 -1.26598820e-01\n",
            "  6.37006462e-01  5.74380577e-01 -4.60670143e-01 -1.19469976e+00\n",
            "  3.67950112e-01  1.07073598e-01  7.99307108e-01  2.67854124e-01\n",
            " -1.74252704e-01  3.29384953e-01  1.72140837e-01 -2.02368379e+00\n",
            "  6.68404877e-01  1.20289874e+00 -1.48397282e-01 -1.73529342e-01\n",
            " -5.25662124e-01  1.05195343e+00  1.48633674e-01 -6.75708830e-01\n",
            "  7.48933256e-02 -2.19144180e-01  3.53320204e-02  2.64874905e-01\n",
            " -7.57256687e-01 -1.12906575e+00 -4.81754899e-01  3.64225477e-01\n",
            " -7.15996504e-01 -3.13265830e-01 -8.37000668e-01  9.95832920e-01\n",
            "  4.17569637e-01 -1.22815025e+00  7.50326395e-01  9.16454792e-01\n",
            "  1.84924483e-01 -1.25073540e+00 -4.87363696e-01 -5.65347731e-01\n",
            " -5.10940254e-01  7.11264431e-01 -3.06941215e-02 -8.10946245e-03\n",
            " -4.08311605e-01 -2.81059921e-01 -6.31685853e-01  3.79379869e-01\n",
            " -1.13083887e+00  7.18892336e-01  5.55282533e-01 -1.21683609e+00\n",
            " -3.82353067e-01  8.73153508e-02 -4.78899717e-01 -2.88835913e-02\n",
            "  7.06100464e-01  8.79451931e-02 -1.03545034e+00  2.95217961e-01\n",
            "  2.51799732e-01 -1.42639771e-01 -1.02689035e-01 -1.03619985e-01\n",
            " -3.88139874e-01 -7.53356218e-01  1.58095971e-01  3.03587884e-01\n",
            "  3.74104887e-01 -5.05377114e-01 -7.36280903e-02  4.57600206e-01\n",
            "  6.27747849e-02  9.61299613e-02  6.64554536e-01 -6.20642722e-01\n",
            "  3.40923697e-01 -5.17582856e-02 -8.19382966e-01 -7.70114124e-01\n",
            " -2.43997619e-01  2.38258243e-01 -9.70292568e-01  2.84819573e-01\n",
            " -1.56580135e-02  3.78338009e-01 -1.96477339e-01  5.04777245e-02\n",
            "  5.75729191e-01 -4.05688196e-01  4.84971017e-01  8.88384819e-01\n",
            " -1.77292216e+00  8.42506886e-01  3.91929746e-01  2.66626775e-01\n",
            " -1.71813276e-02  3.72087479e-01 -2.73188144e-01  3.37985866e-02\n",
            " -9.89446402e-01  7.54704893e-01  6.69783354e-01  1.83681324e-01\n",
            "  1.57874668e+00  2.80381352e-01 -2.47764066e-01 -1.02284467e+00\n",
            " -1.04517686e+00 -1.04133618e+00 -4.52885002e-01  4.44783926e-01\n",
            " -5.36106169e-01  2.77266830e-01 -2.60214686e-01  4.20505673e-01\n",
            " -1.73176005e-01  2.32499883e-01 -7.91833937e-01 -6.46124125e-01\n",
            "  2.79048890e-01  7.69318044e-01 -4.19700712e-01  9.74984825e-01\n",
            "  3.11201066e-01  8.45399857e-01 -3.02092820e-01  7.81074107e-01\n",
            " -1.72910854e-01 -5.75415790e-01 -4.90268320e-01 -3.09286058e-01\n",
            "  5.14143765e-01  6.45542920e-01  8.84410560e-01 -7.19639361e-01\n",
            " -3.28021020e-01 -2.73560911e-01  1.88407063e-01 -5.69014251e-01\n",
            "  7.22701490e-01 -4.63181734e-01  7.00936317e-01 -3.43181640e-01\n",
            "  8.68054092e-01 -1.72517017e-01  7.47752368e-01 -1.36756197e-01\n",
            "  5.72094440e-01  1.15834177e-01  3.12678188e-01  1.09131359e-01\n",
            " -6.08920008e-02 -7.75372326e-01  1.07653804e-01 -1.49043307e-01\n",
            "  3.21080476e-01  2.82909840e-01 -6.24796040e-02 -5.75002015e-01\n",
            " -7.57956445e-01 -1.96438655e-02 -1.87102303e-01 -8.82721245e-01\n",
            "  8.18600118e-01 -1.01163805e+00 -6.17377162e-01 -1.49191439e-01\n",
            "  1.37758538e-01 -4.44439977e-01 -2.45240107e-01 -6.81017876e-01\n",
            "  3.88193130e-02  9.94315803e-01 -1.91523075e-01 -9.25236881e-01\n",
            "  3.63023996e-01 -2.02963591e-01 -1.48500010e-04  3.32737923e-01\n",
            "  2.35064477e-02  4.11338538e-01 -6.32762397e-03  7.91631222e-01\n",
            "  3.32887113e-01  3.05132329e-01  1.00698294e-02 -4.58768934e-01\n",
            "  2.02822194e-01  6.88309729e-01 -5.86795092e-01  6.81827739e-02\n",
            "  5.52963257e-01  2.59313136e-01 -1.40206182e+00 -1.60746112e-01\n",
            "  9.30306315e-02  1.01051295e+00  7.79164791e-01 -6.51890337e-01\n",
            " -3.54091197e-01  2.03787968e-01  5.35459638e-01 -5.86588323e-01\n",
            " -4.43594903e-02  1.10793757e+00  7.73577034e-01 -1.24109201e-01\n",
            "  1.23493046e-01 -2.11044982e-01  2.59298831e-01  1.11618549e-01\n",
            "  1.21909775e-01  4.62975353e-01 -1.35897547e-01  6.77877843e-01\n",
            " -2.62906879e-01 -4.15044464e-02 -8.93676221e-01  5.11967182e-01\n",
            " -2.85086542e-01  6.79092631e-02  2.75363237e-01  4.18674141e-01\n",
            " -3.47242326e-01  9.32154834e-01  2.42727533e-01 -1.20588756e+00\n",
            " -3.41777831e-01 -5.32336235e-02 -1.51559815e-01 -1.11630797e+00\n",
            " -9.93518591e-01  7.60840327e-02  9.71828282e-01  2.18451455e-01\n",
            " -9.45791975e-02  3.17892581e-01  1.45443454e-01  7.58542195e-02\n",
            "  8.69156122e-02 -2.77417153e-01  2.78168738e-01 -5.50714612e-01\n",
            " -6.23475075e-01  4.84471560e-01  5.43278515e-01  6.26081645e-01\n",
            "  8.39020193e-01  1.00957155e-01 -5.10569990e-01  8.35641682e-01\n",
            " -1.56812310e-01 -5.27659476e-01  8.58979702e-01 -1.62750661e-01\n",
            " -3.93274397e-01 -5.13353825e-01  5.20717263e-01 -1.37926862e-01\n",
            " -1.83979318e-01 -5.52535415e-01  6.79381788e-02  7.57341385e-01\n",
            "  1.13323200e+00  1.61946699e-01  5.37509918e-01 -1.41529167e+00\n",
            " -5.34349859e-01 -1.75365880e-01  5.49125135e-01 -4.03967232e-01\n",
            "  8.48217607e-02  1.40111938e-01  9.26111937e-02 -1.21270216e+00\n",
            "  4.82133150e-01 -5.17476261e-01  5.35417736e-01  4.07435559e-02\n",
            "  7.21069038e-01  1.55220881e-01 -1.31888017e-01 -5.03212273e-01\n",
            " -5.65652311e-01 -7.84645259e-01  4.76808697e-01  1.42942101e-01\n",
            "  3.82889479e-01 -1.04782093e+00  1.62322357e-01 -1.17007941e-01\n",
            "  1.24462950e+00 -2.74095982e-01  2.72702098e-01 -4.14260864e-01\n",
            "  1.04063654e+00  1.11597203e-01  5.54525554e-01  1.34803668e-01\n",
            " -1.13327026e-01 -4.12528187e-01  2.01786801e-01 -1.03774406e-01\n",
            " -3.99354100e-01 -8.51255953e-01  7.90764630e-01  9.77580845e-01\n",
            "  2.43086979e-01 -1.86219442e+00  2.60545284e-01  8.16602886e-01\n",
            "  3.77289385e-01 -5.37240565e-01  3.66583586e-01 -8.69649947e-01\n",
            " -5.41159987e-01 -1.88478887e-01 -1.32625043e+00  4.11014080e-01\n",
            " -1.14565778e+00 -8.03869963e-01 -6.14230096e-01  7.05134094e-01\n",
            " -3.06283921e-01  3.56516987e-01 -3.36122274e-01  8.49588737e-02\n",
            "  1.84084311e-01  6.22688949e-01  1.28591107e-02  1.67480147e+00\n",
            " -6.81409687e-02  5.39813638e-01 -2.81381309e-02 -1.07476687e+00\n",
            " -6.16216183e-01  6.24682486e-01 -4.49755102e-01  4.78914887e-01\n",
            " -5.67334779e-02  1.46876320e-01  5.71979582e-01 -2.57789642e-01\n",
            " -1.04335117e+00 -4.36782837e-01 -6.59216821e-01  6.94494620e-02\n",
            " -7.54172027e-01  4.79037613e-01  5.72221160e-01  5.17438464e-02\n",
            " -3.42165828e-01  2.13546515e-01 -7.46649444e-01  2.33275846e-01\n",
            " -9.12698090e-01 -2.83701628e-01  2.94865131e-01  3.52944471e-02\n",
            " -1.67097315e-01 -2.86835581e-01 -8.77282396e-02 -2.83334345e-01\n",
            " -9.64476764e-01  4.83113319e-01  9.70939398e-02  4.60787386e-01\n",
            " -4.18147951e-01 -8.61678600e-01 -6.22519732e-01  2.73944467e-01\n",
            "  3.83224078e-02  1.66600168e-01  6.06113255e-01 -4.45906520e-01\n",
            "  1.10953307e+00  3.96842510e-01  1.36333421e-01 -4.31633711e-01\n",
            " -1.62406117e-01 -5.04633725e-01 -1.59525067e-01  9.45782661e-02]\n"
          ],
          "name": "stdout"
        }
      ]
    },
    {
      "cell_type": "code",
      "metadata": {
        "id": "5c5utc3ks1lP",
        "colab_type": "code",
        "outputId": "71ed2e88-a44d-4957-90b5-c944aa21f1bb",
        "colab": {
          "base_uri": "https://localhost:8080/",
          "height": 101
        }
      },
      "source": [
        "!pip install sklearn\n",
        "from sklearn.metrics.pairwise import cosine_similarity\n",
        "import scipy"
      ],
      "execution_count": 95,
      "outputs": [
        {
          "output_type": "stream",
          "text": [
            "Requirement already satisfied: sklearn in /usr/local/lib/python3.6/dist-packages (0.0)\n",
            "Requirement already satisfied: scikit-learn in /usr/local/lib/python3.6/dist-packages (from sklearn) (0.22.2.post1)\n",
            "Requirement already satisfied: scipy>=0.17.0 in /usr/local/lib/python3.6/dist-packages (from scikit-learn->sklearn) (1.4.1)\n",
            "Requirement already satisfied: joblib>=0.11 in /usr/local/lib/python3.6/dist-packages (from scikit-learn->sklearn) (0.14.1)\n",
            "Requirement already satisfied: numpy>=1.11.0 in /usr/local/lib/python3.6/dist-packages (from scikit-learn->sklearn) (1.18.3)\n"
          ],
          "name": "stdout"
        }
      ]
    },
    {
      "cell_type": "code",
      "metadata": {
        "id": "w9-Aj8gJsi6V",
        "colab_type": "code",
        "outputId": "628faa10-5c6d-4ca9-f0f3-23c60d28d5db",
        "colab": {
          "base_uri": "https://localhost:8080/",
          "height": 202
        }
      },
      "source": [
        "query = 'COVID-19 is pandemic' #@param {type: 'string'}\n",
        "\n",
        "queries = [query]\n",
        "query_embeddings = model.encode(queries)\n",
        "\n",
        "# Find the closest sentences of the corpus for each query sentence based on cosine similarity\n",
        "number_top_matches =  2#@param {type: \"number\"}\n",
        "\n",
        "print(\"Semantic Search Results\")\n",
        "\n",
        "for query, query_embedding in zip(queries, query_embeddings):\n",
        "    distances = scipy.spatial.distance.cdist([query_embedding], sentence_embeddings, \"cosine\")[0]\n",
        "\n",
        "    results = zip(range(len(distances)), distances)\n",
        "    results = sorted(results, key=lambda x: x[1])\n",
        "\n",
        "    print(\"\\n\\n======================\\n\\n\")\n",
        "    print(\"Query:\", query)\n",
        "    print(\"\\nTop 5 most similar sentences in corpus:\")\n",
        "\n",
        "    for idx, distance in results[0:number_top_matches]:\n",
        "        print(sentences[idx].strip(), \"(Cosine Score: %.4f)\" % (1-distance))"
      ],
      "execution_count": 98,
      "outputs": [
        {
          "output_type": "stream",
          "text": [
            "Semantic Search Results\n",
            "\n",
            "\n",
            "======================\n",
            "\n",
            "\n",
            "Query: COVID-19 is pandemic\n",
            "\n",
            "Top 5 most similar sentences in corpus:\n",
            "The Impact of Host-Based Early Warning on Disease Outbreaks (Cosine Score: 0.5847)\n",
            "Journal Pre-proof What Should Gastroenterologists and Patients Know About COVID-19? (Cosine Score: 0.5723)\n"
          ],
          "name": "stdout"
        }
      ]
    }
  ]
}