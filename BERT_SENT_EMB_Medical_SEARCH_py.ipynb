{
  "nbformat": 4,
  "nbformat_minor": 0,
  "metadata": {
    "colab": {
      "name": "BERT_SENT_EMB_Medical_SEARCH.py",
      "provenance": [],
      "mount_file_id": "1NRrfHec1EC3bGvBc7sa6sVZ4AiAkuodi",
      "authorship_tag": "ABX9TyPZ9OO5OpE5LTX2DKhFrDiM",
      "include_colab_link": true
    },
    "kernelspec": {
      "name": "python3",
      "display_name": "Python 3"
    },
    "accelerator": "TPU"
  },
  "cells": [
    {
      "cell_type": "markdown",
      "metadata": {
        "id": "view-in-github",
        "colab_type": "text"
      },
      "source": [
        "<a href=\"https://colab.research.google.com/github/Orneyfish/Orney/blob/master/BERT_SENT_EMB_Medical_SEARCH_py.ipynb\" target=\"_parent\"><img src=\"https://colab.research.google.com/assets/colab-badge.svg\" alt=\"Open In Colab\"/></a>"
      ]
    },
    {
      "cell_type": "code",
      "metadata": {
        "id": "icQPQWArcgaU",
        "colab_type": "code",
        "outputId": "5ecd5cc4-1a6c-4320-9b6a-8706a0225e7f",
        "colab": {
          "base_uri": "https://localhost:8080/",
          "height": 373
        }
      },
      "source": [
        "! pip install bert-serving-server bert-serving-client\n",
        "! pip install tensorflow-gpu==1.14.0-rc0"
      ],
      "execution_count": 5,
      "outputs": [
        {
          "output_type": "stream",
          "text": [
            "Collecting bert-serving-server\n",
            "\u001b[?25l  Downloading https://files.pythonhosted.org/packages/b0/bd/cab677bbd0c5fb08b72e468371d2bca6ed9507785739b4656b0b5470d90b/bert_serving_server-1.10.0-py3-none-any.whl (61kB)\n",
            "\r\u001b[K     |█████▎                          | 10kB 18.3MB/s eta 0:00:01\r\u001b[K     |██████████▋                     | 20kB 2.2MB/s eta 0:00:01\r\u001b[K     |████████████████                | 30kB 2.7MB/s eta 0:00:01\r\u001b[K     |█████████████████████▎          | 40kB 2.1MB/s eta 0:00:01\r\u001b[K     |██████████████████████████▋     | 51kB 2.4MB/s eta 0:00:01\r\u001b[K     |███████████████████████████████▉| 61kB 2.8MB/s eta 0:00:01\r\u001b[K     |████████████████████████████████| 71kB 2.6MB/s \n",
            "\u001b[?25hCollecting bert-serving-client\n",
            "  Downloading https://files.pythonhosted.org/packages/1f/09/aae1405378a848b2e87769ad89a43d6d71978c4e15534ca48e82e723a72f/bert_serving_client-1.10.0-py2.py3-none-any.whl\n",
            "Requirement already satisfied: pyzmq>=17.1.0 in /usr/local/lib/python3.6/dist-packages (from bert-serving-server) (19.0.0)\n",
            "Requirement already satisfied: six in /usr/local/lib/python3.6/dist-packages (from bert-serving-server) (1.12.0)\n",
            "Requirement already satisfied: numpy in /usr/local/lib/python3.6/dist-packages (from bert-serving-server) (1.18.3)\n",
            "Collecting GPUtil>=1.3.0\n",
            "  Downloading https://files.pythonhosted.org/packages/ed/0e/5c61eedde9f6c87713e89d794f01e378cfd9565847d4576fa627d758c554/GPUtil-1.4.0.tar.gz\n",
            "Requirement already satisfied: termcolor>=1.1 in /usr/local/lib/python3.6/dist-packages (from bert-serving-server) (1.1.0)\n",
            "Building wheels for collected packages: GPUtil\n",
            "  Building wheel for GPUtil (setup.py) ... \u001b[?25l\u001b[?25hdone\n",
            "  Created wheel for GPUtil: filename=GPUtil-1.4.0-cp36-none-any.whl size=7413 sha256=0977c37a1f3a6ccbed0c2533afe04c73e0de113a6d77f6774f1f718029da5640\n",
            "  Stored in directory: /root/.cache/pip/wheels/3d/77/07/80562de4bb0786e5ea186911a2c831fdd0018bda69beab71fd\n",
            "Successfully built GPUtil\n",
            "Installing collected packages: GPUtil, bert-serving-server, bert-serving-client\n",
            "Successfully installed GPUtil-1.4.0 bert-serving-client-1.10.0 bert-serving-server-1.10.0\n",
            "\u001b[31mERROR: Could not find a version that satisfies the requirement tensorflow-gpu==1.14.0-rc0 (from versions: 0.12.1, 1.0.0, 1.0.1, 1.1.0, 1.2.0, 1.2.1, 1.3.0, 1.4.0, 1.4.1, 1.5.0, 1.5.1, 1.6.0, 1.7.0, 1.7.1, 1.8.0, 1.9.0, 1.10.0, 1.10.1, 1.11.0, 1.12.0, 1.12.2, 1.12.3, 1.13.1, 1.13.2, 1.14.0, 1.15.0rc0, 1.15.0rc1, 1.15.0rc2, 1.15.0rc3, 1.15.0, 1.15.2, 2.0.0a0, 2.0.0b0, 2.0.0b1, 2.0.0rc0, 2.0.0rc1, 2.0.0rc2, 2.0.0, 2.0.1, 2.1.0rc0, 2.1.0rc1, 2.1.0rc2, 2.1.0, 2.2.0rc0, 2.2.0rc1, 2.2.0rc2, 2.2.0rc3, 2.2.0rc4)\u001b[0m\n",
            "\u001b[31mERROR: No matching distribution found for tensorflow-gpu==1.14.0-rc0\u001b[0m\n"
          ],
          "name": "stdout"
        }
      ]
    },
    {
      "cell_type": "code",
      "metadata": {
        "id": "mi5R5eAAsLwJ",
        "colab_type": "code",
        "outputId": "f6d20cf6-c48d-4056-e973-b441f07deabb",
        "colab": {
          "base_uri": "https://localhost:8080/",
          "height": 860
        }
      },
      "source": [
        "# Install the library using pip\n",
        "!pip install sentence-transformers"
      ],
      "execution_count": 6,
      "outputs": [
        {
          "output_type": "stream",
          "text": [
            "Collecting sentence-transformers\n",
            "\u001b[?25l  Downloading https://files.pythonhosted.org/packages/b9/46/b7d6c37d92d1bd65319220beabe4df845434930e3f30e42d3cfaecb74dc4/sentence-transformers-0.2.6.1.tar.gz (55kB)\n",
            "\u001b[K     |████████████████████████████████| 61kB 2.3MB/s \n",
            "\u001b[?25hCollecting transformers>=2.8.0\n",
            "\u001b[?25l  Downloading https://files.pythonhosted.org/packages/a3/78/92cedda05552398352ed9784908b834ee32a0bd071a9b32de287327370b7/transformers-2.8.0-py3-none-any.whl (563kB)\n",
            "\u001b[K     |████████████████████████████████| 573kB 8.3MB/s \n",
            "\u001b[?25hRequirement already satisfied: tqdm in /usr/local/lib/python3.6/dist-packages (from sentence-transformers) (4.38.0)\n",
            "Requirement already satisfied: torch>=1.0.1 in /usr/local/lib/python3.6/dist-packages (from sentence-transformers) (1.5.0+cu101)\n",
            "Requirement already satisfied: numpy in /usr/local/lib/python3.6/dist-packages (from sentence-transformers) (1.18.3)\n",
            "Requirement already satisfied: scikit-learn in /usr/local/lib/python3.6/dist-packages (from sentence-transformers) (0.22.2.post1)\n",
            "Requirement already satisfied: scipy in /usr/local/lib/python3.6/dist-packages (from sentence-transformers) (1.4.1)\n",
            "Requirement already satisfied: nltk in /usr/local/lib/python3.6/dist-packages (from sentence-transformers) (3.2.5)\n",
            "Requirement already satisfied: filelock in /usr/local/lib/python3.6/dist-packages (from transformers>=2.8.0->sentence-transformers) (3.0.12)\n",
            "Requirement already satisfied: requests in /usr/local/lib/python3.6/dist-packages (from transformers>=2.8.0->sentence-transformers) (2.23.0)\n",
            "Collecting sacremoses\n",
            "\u001b[?25l  Downloading https://files.pythonhosted.org/packages/99/50/93509f906a40bffd7d175f97fd75ea328ad9bd91f48f59c4bd084c94a25e/sacremoses-0.0.41.tar.gz (883kB)\n",
            "\u001b[K     |████████████████████████████████| 890kB 29.1MB/s \n",
            "\u001b[?25hRequirement already satisfied: boto3 in /usr/local/lib/python3.6/dist-packages (from transformers>=2.8.0->sentence-transformers) (1.12.47)\n",
            "Requirement already satisfied: dataclasses; python_version < \"3.7\" in /usr/local/lib/python3.6/dist-packages (from transformers>=2.8.0->sentence-transformers) (0.7)\n",
            "Collecting tokenizers==0.5.2\n",
            "\u001b[?25l  Downloading https://files.pythonhosted.org/packages/d1/3f/73c881ea4723e43c1e9acf317cf407fab3a278daab3a69c98dcac511c04f/tokenizers-0.5.2-cp36-cp36m-manylinux1_x86_64.whl (3.7MB)\n",
            "\u001b[K     |████████████████████████████████| 3.7MB 44.3MB/s \n",
            "\u001b[?25hRequirement already satisfied: regex!=2019.12.17 in /usr/local/lib/python3.6/dist-packages (from transformers>=2.8.0->sentence-transformers) (2019.12.20)\n",
            "Collecting sentencepiece\n",
            "\u001b[?25l  Downloading https://files.pythonhosted.org/packages/98/2c/8df20f3ac6c22ac224fff307ebc102818206c53fc454ecd37d8ac2060df5/sentencepiece-0.1.86-cp36-cp36m-manylinux1_x86_64.whl (1.0MB)\n",
            "\u001b[K     |████████████████████████████████| 1.0MB 36.0MB/s \n",
            "\u001b[?25hRequirement already satisfied: future in /usr/local/lib/python3.6/dist-packages (from torch>=1.0.1->sentence-transformers) (0.16.0)\n",
            "Requirement already satisfied: joblib>=0.11 in /usr/local/lib/python3.6/dist-packages (from scikit-learn->sentence-transformers) (0.14.1)\n",
            "Requirement already satisfied: six in /usr/local/lib/python3.6/dist-packages (from nltk->sentence-transformers) (1.12.0)\n",
            "Requirement already satisfied: certifi>=2017.4.17 in /usr/local/lib/python3.6/dist-packages (from requests->transformers>=2.8.0->sentence-transformers) (2020.4.5.1)\n",
            "Requirement already satisfied: chardet<4,>=3.0.2 in /usr/local/lib/python3.6/dist-packages (from requests->transformers>=2.8.0->sentence-transformers) (3.0.4)\n",
            "Requirement already satisfied: idna<3,>=2.5 in /usr/local/lib/python3.6/dist-packages (from requests->transformers>=2.8.0->sentence-transformers) (2.9)\n",
            "Requirement already satisfied: urllib3!=1.25.0,!=1.25.1,<1.26,>=1.21.1 in /usr/local/lib/python3.6/dist-packages (from requests->transformers>=2.8.0->sentence-transformers) (1.24.3)\n",
            "Requirement already satisfied: click in /usr/local/lib/python3.6/dist-packages (from sacremoses->transformers>=2.8.0->sentence-transformers) (7.1.2)\n",
            "Requirement already satisfied: jmespath<1.0.0,>=0.7.1 in /usr/local/lib/python3.6/dist-packages (from boto3->transformers>=2.8.0->sentence-transformers) (0.9.5)\n",
            "Requirement already satisfied: botocore<1.16.0,>=1.15.47 in /usr/local/lib/python3.6/dist-packages (from boto3->transformers>=2.8.0->sentence-transformers) (1.15.47)\n",
            "Requirement already satisfied: s3transfer<0.4.0,>=0.3.0 in /usr/local/lib/python3.6/dist-packages (from boto3->transformers>=2.8.0->sentence-transformers) (0.3.3)\n",
            "Requirement already satisfied: docutils<0.16,>=0.10 in /usr/local/lib/python3.6/dist-packages (from botocore<1.16.0,>=1.15.47->boto3->transformers>=2.8.0->sentence-transformers) (0.15.2)\n",
            "Requirement already satisfied: python-dateutil<3.0.0,>=2.1 in /usr/local/lib/python3.6/dist-packages (from botocore<1.16.0,>=1.15.47->boto3->transformers>=2.8.0->sentence-transformers) (2.8.1)\n",
            "Building wheels for collected packages: sentence-transformers, sacremoses\n",
            "  Building wheel for sentence-transformers (setup.py) ... \u001b[?25l\u001b[?25hdone\n",
            "  Created wheel for sentence-transformers: filename=sentence_transformers-0.2.6.1-cp36-none-any.whl size=74031 sha256=39e465ca56cde859d9f234d94937ab7d399d7330d1b273c6fca28ace4737d460\n",
            "  Stored in directory: /root/.cache/pip/wheels/d7/fa/17/2b081a8cd8b0a86753fb0e9826b3cc19f0207062c0b2da7008\n",
            "  Building wheel for sacremoses (setup.py) ... \u001b[?25l\u001b[?25hdone\n",
            "  Created wheel for sacremoses: filename=sacremoses-0.0.41-cp36-none-any.whl size=893334 sha256=8972eb37aa8be5f06dbb0a9762892afb446cb9eea950601b25c2cb75e3241221\n",
            "  Stored in directory: /root/.cache/pip/wheels/22/5a/d4/b020a81249de7dc63758a34222feaa668dbe8ebfe9170cc9b1\n",
            "Successfully built sentence-transformers sacremoses\n",
            "Installing collected packages: sacremoses, tokenizers, sentencepiece, transformers, sentence-transformers\n",
            "Successfully installed sacremoses-0.0.41 sentence-transformers-0.2.6.1 sentencepiece-0.1.86 tokenizers-0.5.2 transformers-2.8.0\n"
          ],
          "name": "stdout"
        }
      ]
    },
    {
      "cell_type": "code",
      "metadata": {
        "id": "jnj1qZGSsTTi",
        "colab_type": "code",
        "outputId": "de467b2a-9e64-44df-bc0e-cebe52565cb4",
        "colab": {
          "base_uri": "https://localhost:8080/",
          "height": 34
        }
      },
      "source": [
        "from sentence_transformers import SentenceTransformer\n",
        "\n",
        "# Load the BERT model. Various models trained on Natural Language Inference (NLI) https://github.com/UKPLab/sentence-transformers/blob/master/docs/pretrained-models/nli-models.md and \n",
        "# Semantic Textual Similarity are available https://github.com/UKPLab/sentence-transformers/blob/master/docs/pretrained-models/sts-models.md\n",
        "\n",
        "model = SentenceTransformer('bert-base-nli-mean-tokens')"
      ],
      "execution_count": 7,
      "outputs": [
        {
          "output_type": "stream",
          "text": [
            "100%|██████████| 405M/405M [00:18<00:00, 21.6MB/s]\n"
          ],
          "name": "stderr"
        }
      ]
    },
    {
      "cell_type": "code",
      "metadata": {
        "id": "Bj6W7LJazag3",
        "colab_type": "code",
        "outputId": "a9413107-03d8-4086-c40f-e03a38e38221",
        "colab": {
          "base_uri": "https://localhost:8080/",
          "height": 377
        }
      },
      "source": [
        "\n",
        "import pandas as pd\n",
        "\n",
        "df = pd.read_csv(\"/content/metadata_mod_1.csv\", delimiter='\\t', header=None, names=['title'],  encoding='utf-8')\n",
        "df = df.replace(',','', regex=True)\n",
        "# Report the number of sentences.\n",
        "print('Number of training sentences: {:,}\\n'.format(df.shape[0]))\n",
        "\n",
        "# Display 10 random rows from the data.\n",
        "df.sample(10)"
      ],
      "execution_count": 42,
      "outputs": [
        {
          "output_type": "stream",
          "text": [
            "Number of training sentences: 57,382\n",
            "\n"
          ],
          "name": "stdout"
        },
        {
          "output_type": "execute_result",
          "data": {
            "text/html": [
              "<div>\n",
              "<style scoped>\n",
              "    .dataframe tbody tr th:only-of-type {\n",
              "        vertical-align: middle;\n",
              "    }\n",
              "\n",
              "    .dataframe tbody tr th {\n",
              "        vertical-align: top;\n",
              "    }\n",
              "\n",
              "    .dataframe thead th {\n",
              "        text-align: right;\n",
              "    }\n",
              "</style>\n",
              "<table border=\"1\" class=\"dataframe\">\n",
              "  <thead>\n",
              "    <tr style=\"text-align: right;\">\n",
              "      <th></th>\n",
              "      <th>title</th>\n",
              "    </tr>\n",
              "  </thead>\n",
              "  <tbody>\n",
              "    <tr>\n",
              "      <th>21507</th>\n",
              "      <td>Ganglioside-Linked Terminal Sialic Acid Moieti...</td>\n",
              "    </tr>\n",
              "    <tr>\n",
              "      <th>19932</th>\n",
              "      <td>Health care policy makers we have a problem</td>\n",
              "    </tr>\n",
              "    <tr>\n",
              "      <th>30370</th>\n",
              "      <td>Heterologous virus peptide immunogen productio...</td>\n",
              "    </tr>\n",
              "    <tr>\n",
              "      <th>15976</th>\n",
              "      <td>Protein microarrays for systems biology</td>\n",
              "    </tr>\n",
              "    <tr>\n",
              "      <th>37670</th>\n",
              "      <td>Tracking progress towards malaria elimination ...</td>\n",
              "    </tr>\n",
              "    <tr>\n",
              "      <th>55710</th>\n",
              "      <td>Novel coronavirus: From discovery to clinical ...</td>\n",
              "    </tr>\n",
              "    <tr>\n",
              "      <th>924</th>\n",
              "      <td>Computational Resources in Infectious Disease:...</td>\n",
              "    </tr>\n",
              "    <tr>\n",
              "      <th>34848</th>\n",
              "      <td>Deciphering the power of isolation in controll...</td>\n",
              "    </tr>\n",
              "    <tr>\n",
              "      <th>56664</th>\n",
              "      <td>Posttraumatic stress disorder in convalescent ...</td>\n",
              "    </tr>\n",
              "    <tr>\n",
              "      <th>57281</th>\n",
              "      <td>A habitat-based model for the spread of hantav...</td>\n",
              "    </tr>\n",
              "  </tbody>\n",
              "</table>\n",
              "</div>"
            ],
            "text/plain": [
              "                                                   title\n",
              "21507  Ganglioside-Linked Terminal Sialic Acid Moieti...\n",
              "19932        Health care policy makers we have a problem\n",
              "30370  Heterologous virus peptide immunogen productio...\n",
              "15976            Protein microarrays for systems biology\n",
              "37670  Tracking progress towards malaria elimination ...\n",
              "55710  Novel coronavirus: From discovery to clinical ...\n",
              "924    Computational Resources in Infectious Disease:...\n",
              "34848  Deciphering the power of isolation in controll...\n",
              "56664  Posttraumatic stress disorder in convalescent ...\n",
              "57281  A habitat-based model for the spread of hantav..."
            ]
          },
          "metadata": {
            "tags": []
          },
          "execution_count": 42
        }
      ]
    },
    {
      "cell_type": "code",
      "metadata": {
        "id": "J-0cduJbziwH",
        "colab_type": "code",
        "outputId": "0b2b53f5-14b8-4317-d86b-9fef808184e2",
        "colab": {
          "base_uri": "https://localhost:8080/",
          "height": 195
        }
      },
      "source": [
        "df.sample(5)[['title']]"
      ],
      "execution_count": 43,
      "outputs": [
        {
          "output_type": "execute_result",
          "data": {
            "text/html": [
              "<div>\n",
              "<style scoped>\n",
              "    .dataframe tbody tr th:only-of-type {\n",
              "        vertical-align: middle;\n",
              "    }\n",
              "\n",
              "    .dataframe tbody tr th {\n",
              "        vertical-align: top;\n",
              "    }\n",
              "\n",
              "    .dataframe thead th {\n",
              "        text-align: right;\n",
              "    }\n",
              "</style>\n",
              "<table border=\"1\" class=\"dataframe\">\n",
              "  <thead>\n",
              "    <tr style=\"text-align: right;\">\n",
              "      <th></th>\n",
              "      <th>title</th>\n",
              "    </tr>\n",
              "  </thead>\n",
              "  <tbody>\n",
              "    <tr>\n",
              "      <th>30224</th>\n",
              "      <td>Contents to volume 14</td>\n",
              "    </tr>\n",
              "    <tr>\n",
              "      <th>45058</th>\n",
              "      <td>Camphor-based symmetric diimines as inhibitors...</td>\n",
              "    </tr>\n",
              "    <tr>\n",
              "      <th>43682</th>\n",
              "      <td>Regulation of t cell responses during central ...</td>\n",
              "    </tr>\n",
              "    <tr>\n",
              "      <th>55122</th>\n",
              "      <td>Necrotizing Enterocolitis and Infection</td>\n",
              "    </tr>\n",
              "    <tr>\n",
              "      <th>18696</th>\n",
              "      <td>A differential proteome in tumors suppressed b...</td>\n",
              "    </tr>\n",
              "  </tbody>\n",
              "</table>\n",
              "</div>"
            ],
            "text/plain": [
              "                                                   title\n",
              "30224                              Contents to volume 14\n",
              "45058  Camphor-based symmetric diimines as inhibitors...\n",
              "43682  Regulation of t cell responses during central ...\n",
              "55122            Necrotizing Enterocolitis and Infection\n",
              "18696  A differential proteome in tumors suppressed b..."
            ]
          },
          "metadata": {
            "tags": []
          },
          "execution_count": 43
        }
      ]
    },
    {
      "cell_type": "code",
      "metadata": {
        "id": "dSrsT_6voJnM",
        "colab_type": "code",
        "colab": {}
      },
      "source": [
        "from google.colab import drive\n",
        "drive.mount('/content/drive')"
      ],
      "execution_count": 0,
      "outputs": []
    },
    {
      "cell_type": "code",
      "metadata": {
        "id": "PvoW7l6Tznr1",
        "colab_type": "code",
        "colab": {}
      },
      "source": [
        "# Get the lists of sentences and their labels.\n",
        "sentences = df.title.values"
      ],
      "execution_count": 0,
      "outputs": []
    },
    {
      "cell_type": "code",
      "metadata": {
        "id": "X-G24YDeztnI",
        "colab_type": "code",
        "outputId": "93de1501-0ad9-41f5-915d-974a609c85f2",
        "colab": {
          "base_uri": "https://localhost:8080/",
          "height": 34
        }
      },
      "source": [
        "from transformers import BertTokenizer\n",
        "\n",
        "# Load the BERT tokenizer.\n",
        "print('Loading BERT tokenizer...')\n",
        "tokenizer = BertTokenizer.from_pretrained('bert-base-uncased', do_lower_case=True)"
      ],
      "execution_count": 45,
      "outputs": [
        {
          "output_type": "stream",
          "text": [
            "Loading BERT tokenizer...\n"
          ],
          "name": "stdout"
        }
      ]
    },
    {
      "cell_type": "code",
      "metadata": {
        "id": "n6ED6t4rzzyv",
        "colab_type": "code",
        "outputId": "49d47453-c024-4373-c200-d7fd866b6e2c",
        "colab": {
          "base_uri": "https://localhost:8080/",
          "height": 87
        }
      },
      "source": [
        "# Print the original sentence.\n",
        "print(' Original: ', sentences[0])\n",
        "\n",
        "# Print the sentence split into tokens.\n",
        "print('Tokenized: ', tokenizer.tokenize(sentences[0]))\n",
        "\n",
        "# Print the sentence mapped to token ids.\n",
        "print('Token IDs: ', tokenizer.convert_tokens_to_ids(tokenizer.tokenize(sentences[0])))"
      ],
      "execution_count": 46,
      "outputs": [
        {
          "output_type": "stream",
          "text": [
            " Original:  Sequence requirements for RNA strand transfer during nidovirus discontinuous subgenomic RNA synthesis\n",
            "Tokenized:  ['sequence', 'requirements', 'for', 'rna', 'strand', 'transfer', 'during', 'ni', '##do', '##virus', 'disco', '##nti', '##nu', '##ous', 'sub', '##gen', '##omic', 'rna', 'synthesis']\n",
            "Token IDs:  [5537, 5918, 2005, 12987, 11226, 4651, 2076, 9152, 3527, 23350, 12532, 16778, 11231, 3560, 4942, 6914, 22026, 12987, 10752]\n"
          ],
          "name": "stdout"
        }
      ]
    },
    {
      "cell_type": "code",
      "metadata": {
        "id": "yd1AHyHMse4X",
        "colab_type": "code",
        "outputId": "09e26f3f-55e1-445f-80bb-6826b16430b9",
        "colab": {
          "base_uri": "https://localhost:8080/",
          "height": 1000
        }
      },
      "source": [
        "# A corpus is a list with documents split by sentences.\n",
        "\n",
        "# Each sentence is encoded as a 1-D vector with 78 columns\n",
        "sentence_embeddings = model.encode(sentences)\n",
        "\n",
        "print('Sample BERT embedding vector - length', len(sentence_embeddings[0]))\n",
        "\n",
        "print('Sample BERT embedding vector - note includes negative values', sentence_embeddings[0])"
      ],
      "execution_count": 50,
      "outputs": [
        {
          "output_type": "stream",
          "text": [
            "Sample BERT embedding vector - length 768\n",
            "Sample BERT embedding vector - note includes negative values [-0.07213004  0.49508727 -0.07514993 -0.28801617  0.5327266  -0.4858256\n",
            "  0.45519215 -0.18853423  0.32917264  0.01886304 -0.20000336 -0.06736126\n",
            " -0.07661465  0.7415834  -0.34379065  0.6793352  -0.74183947 -0.20254117\n",
            "  0.48773494 -0.07760305 -0.71833897  0.3655062  -0.7240679  -0.19259787\n",
            "  0.25161403  0.41441235  0.77206737 -0.5407673  -0.5124387  -0.18588088\n",
            " -0.12911932 -0.18894884  0.30665416  0.14398792 -0.24391262  0.2224096\n",
            " -0.47064054  0.04134032  0.51653165  0.4352095  -0.27152145 -0.72647464\n",
            " -0.1206138   0.21875894 -0.3527094  -0.9090545   0.5202691   1.0837411\n",
            " -0.785386   -0.24086566 -0.38559896 -0.4720218   1.4485849   0.5541864\n",
            "  0.28284058 -0.34595186  0.50730276 -0.8881728  -0.03555429 -0.23354387\n",
            " -0.0408203  -0.2783789  -0.02273689  0.803502   -0.17334306  0.358125\n",
            " -0.04606174 -0.5939245  -1.2421298  -1.369909    0.1677198  -0.45662445\n",
            " -0.87887335 -0.16424954  0.25818658 -0.79752207  0.10810527  0.41315928\n",
            "  0.32295012 -0.19035001 -0.2996142   0.29422408 -0.17285177 -0.6467667\n",
            "  0.56081676 -0.2837473   0.7501437  -0.17206173 -1.0222793   0.11615759\n",
            "  0.47086415  0.48393136 -0.19684379 -0.06708105 -0.17789781 -0.3146966\n",
            " -0.38781416  0.6932058   0.07580296  0.83525646 -1.0116811   0.39924613\n",
            "  0.36358476 -0.02582181 -0.41514087 -0.2880826   0.21205732 -0.04468517\n",
            " -1.4024183   0.22135982  0.471917    0.9024364   0.15989737 -0.28869015\n",
            " -0.6234808  -0.6165946  -0.44981733  0.16304806 -0.28727755  0.81716365\n",
            "  0.5919068   0.83075434  0.0483381   0.00688968  0.74035376 -0.57242525\n",
            "  0.52031815  0.33516493 -1.2099336   0.24602361  0.6160881   1.0006738\n",
            " -0.45880082 -0.3763651  -0.29550833 -0.14286605 -0.18847819 -0.13253486\n",
            "  0.52281106 -1.4568936  -0.81924564  0.03222346  0.4853061  -0.4844361\n",
            " -0.67424506 -0.21897866  0.3562414  -0.3485189  -0.36712417 -0.34587258\n",
            "  0.14808498 -0.8522687  -0.45260543  0.08414601  0.31067052 -0.38983768\n",
            "  0.35076633  0.9790187  -0.25908086  0.9014648   0.15096377  0.68047726\n",
            "  0.12949806  0.10122921  0.9323242  -0.598433    0.15963867  0.00824957\n",
            "  0.36142296 -0.62315094 -0.71487856 -0.48216528  1.2237109  -0.8928615\n",
            "  1.0973318  -0.4567852   0.35950875 -0.43742698 -0.4460299  -0.21405995\n",
            " -0.14179797  0.16268703 -0.09135625  0.24065359 -0.4197287  -0.06389835\n",
            "  0.536806   -0.21460898 -0.13580409  0.288218   -0.99719554 -0.35196596\n",
            "  0.18429711 -0.9802     -0.43353653  0.9276103  -0.8355861   1.5603606\n",
            " -0.37182447 -0.21459995 -0.06992456  0.60905725  0.54029    -0.8342183\n",
            "  0.22188321  0.6221911   0.3594771  -0.15635453 -0.59364307 -0.15007886\n",
            " -0.50282013  0.7540706  -0.44641513  0.3899479   0.7325757  -0.34877038\n",
            "  0.70168096 -0.9133682   0.22654985  0.14395694  0.03233355 -0.72485626\n",
            "  0.36737913  1.3076128  -0.6198389   1.1884698   0.33586013 -0.34179342\n",
            "  0.5149096   1.08838     0.78236496 -0.5508044  -0.2524472  -0.07236557\n",
            " -0.21362083 -0.09751168 -0.363228    0.44454715 -0.06348664 -0.03450917\n",
            " -0.24314967  0.42820618  0.03767999 -0.0099401  -0.61769956 -1.0486273\n",
            "  0.76719123 -0.95974594 -0.57995105  0.04012636 -0.11733147 -0.15079363\n",
            "  1.5822015  -0.38784382  0.73938     0.40779296 -0.10972695  0.03874442\n",
            "  0.7454389  -0.6412129  -0.18904804  0.4087395  -0.14860156  0.2291496\n",
            " -0.20601937 -0.1573282  -0.3204205   0.18055049 -0.07432437  0.04284647\n",
            "  0.49857706 -0.07714593 -0.7828161  -0.5315601  -0.86960393 -0.8470265\n",
            "  0.38756117 -0.23393567  0.6456009   0.2930757  -0.03199722  0.15501288\n",
            " -1.2201223  -0.29405943 -1.0765038   0.73499763  0.12601383 -0.31777388\n",
            " -0.22825678  0.43051574 -0.6326487   0.30398872 -0.8820117  -0.51012087\n",
            " -0.08671287 -0.5241702   0.05948059 -1.2300923   0.85409373 -0.05799881\n",
            " -0.04249646  0.24878308 -0.37495217  0.40471703 -1.160722    0.12470251\n",
            "  0.7580955   0.17642711 -1.3426757   0.18971317 -0.6724997  -0.21555589\n",
            "  0.3756901   0.40275007  0.94850594  0.07737456 -0.22574268 -0.8521616\n",
            " -0.2880509  -1.3437643  -0.16932385 -0.09521654  0.05098708 -0.12494096\n",
            "  0.6031375  -0.03038388  0.27187905  0.46688923  0.2049479  -0.47428623\n",
            "  0.9628444  -1.8267697  -1.2924535  -0.1229318   0.14742249  0.48864052\n",
            " -0.9914674  -0.6089672   0.19039223  0.03983265  1.2826422  -0.77163553\n",
            " -0.23957802  0.23757799  0.7887492  -0.08767986  0.3657539   0.10169053\n",
            "  0.42525744 -0.48595643  0.87940705 -0.07385764  0.01856601  1.0261545\n",
            " -0.05905649 -0.25827125  0.1884355   1.0185002  -0.11489493  0.06457662\n",
            " -0.2508014   1.0404806   0.37458524 -1.0005839  -0.26470008 -0.00640197\n",
            " -0.2110288  -0.4184649   0.33439547  0.15187137  0.43672746 -0.47270584\n",
            "  0.13209908 -0.01353291 -0.9701784  -0.3912993   0.00212128  0.44026688\n",
            " -0.3673571  -0.45781803 -0.42907748 -0.8938554   0.04531395 -0.822761\n",
            "  0.17362496 -0.41109866  0.19311778 -0.05358702 -0.36132994 -0.09194043\n",
            "  1.0362505  -0.35875258  0.3819158  -0.91728365  0.12124842 -0.9284803\n",
            " -0.51279294  0.61771023 -0.24309799  0.48075214 -0.24550779 -1.0494486\n",
            "  0.59777176 -0.84806323  0.91358095  1.1810209   0.48231292  0.01990514\n",
            "  0.54149127 -0.52592856 -0.3356379  -1.0471479  -0.10793229  0.41927356\n",
            " -0.88690096  0.85212183  0.11813329 -0.5296577  -0.27181047  0.99148834\n",
            " -0.15476681 -0.8853639   0.56596696  0.26594415  0.3817885   0.44447437\n",
            " -0.3661254  -0.5402766  -0.43608856  0.529893    0.16533367 -0.27790618\n",
            "  0.2373798  -0.19376092  0.57114995 -0.01827895 -0.47805172 -0.1119642\n",
            "  0.4933457  -0.06980838 -0.7292439  -1.6201181   0.41257185  0.6806525\n",
            " -1.5459702   0.7455181  -0.5664004  -0.35765186  0.34400544 -0.7846826\n",
            "  0.8039979   0.0545122  -0.5097634   0.72299147  1.2398959   0.36517775\n",
            "  0.19594887 -0.51146305 -0.70871687  0.07916152  0.8289762   0.1829849\n",
            " -0.60951954 -0.02727065  0.87298554 -0.5428427  -0.29873127 -1.3950164\n",
            " -0.01365659  0.1581742   0.00723605 -0.12789014 -0.25308594  0.8228203\n",
            " -0.13702141 -0.85449165 -0.80328304  0.22814786 -0.35627303  0.6984372\n",
            " -0.12452768  0.14373001  0.8437141   0.8547091   0.16624855 -0.29748735\n",
            "  0.4166356   0.5226097   0.59053564 -0.47575057  0.6883854   0.40954408\n",
            " -0.04337765 -0.739354   -0.07088289 -0.01635461 -0.798555    0.09851852\n",
            " -0.27906936  0.6297263   1.7379183  -0.02555003  0.23238316  0.0500247\n",
            "  0.23766029  1.0218773   0.15700373 -0.20564392  0.8123425  -0.06712308\n",
            "  0.1954728  -0.03100211 -0.1304587   0.1152264  -0.4773981  -0.23926853\n",
            " -0.63065726  0.02497436  0.16669653 -1.154538    0.11455729  0.31572652\n",
            "  0.81374675  0.12192043 -0.7861022   0.59798837  0.14817582  0.47144717\n",
            "  0.7612457   0.03394882  0.5294481   0.3038718  -0.30700716  0.9610799\n",
            " -0.9642461  -0.82065403  0.18119244  0.342116    0.66059005 -1.103722\n",
            " -0.07048965 -0.30104935  1.0251454  -1.0517431  -0.66871154  0.10491094\n",
            "  0.30364022  0.4196683   0.34417847  0.20055932 -0.64893436  0.0236839\n",
            "  0.47711748  0.18642417  0.39634624 -0.25738505 -0.27736083  0.83133346\n",
            " -0.8603054   0.28595057  0.11647481  0.54879516  0.26760134  1.1222318\n",
            " -0.8505767  -0.88607436 -0.29408106 -0.518219   -0.05079981  0.04007959\n",
            "  0.34495825 -0.75221646  0.90675926  0.1578477  -0.40282416 -0.00259815\n",
            "  0.81301224  0.02177999 -0.28997952 -0.75881976  0.89456993  1.1137593\n",
            " -0.77285194  0.077365    0.3670341   0.23525159  0.4383897  -0.94857925\n",
            " -0.12268118 -0.18837744  1.0587273  -0.23811471 -0.33906198 -0.5573083\n",
            " -0.04558332  0.11679252 -0.27264982  0.81719387  0.33504823 -0.5161567\n",
            " -0.1920799  -0.19175582 -0.8314227   0.27889523 -0.81951404  0.24282078\n",
            " -0.2886859  -0.6946538  -0.4374087   0.3393501   1.0937612  -1.0929182\n",
            "  0.16121913  0.4611207   0.1227919   0.61943656 -0.31729776  0.04999368\n",
            "  0.29246655 -0.15829118  0.375991   -0.11885062 -0.20208858 -0.09526481\n",
            " -0.05377382 -0.70027554  0.43549547 -0.7067212  -0.3129952   0.1874627\n",
            "  0.02021432  0.03554025 -0.49190634  1.2462546  -0.52524936 -0.3976546\n",
            "  0.06983703  0.62466145 -0.0907496  -0.23216149 -0.35550398  0.71343505\n",
            " -0.97442955  0.18006447 -0.43807045 -0.16979697  0.23637992 -0.12985447\n",
            "  0.33926293  1.1041732  -0.20165323  0.82637376  0.5269451  -0.6002103\n",
            "  0.28468335  0.16732803  0.60059476  0.43826222  0.05919402 -0.2775415\n",
            "  0.4153497   0.11756988 -0.2287354   0.3282082   0.18329309 -0.2071645\n",
            "  0.7876788  -0.31338257 -0.04598525  0.6652079  -0.7344778   0.36263832\n",
            "  0.68434167 -0.66686887  0.59142333  0.00694284  0.8779477  -0.12547433\n",
            "  0.59609544 -0.14807913 -0.346674   -0.13119815 -0.179092   -0.25513232\n",
            "  0.8489205  -0.21165892 -0.67491996 -0.08063237 -0.846783   -0.63900197\n",
            "  0.80547893 -0.14693904 -1.2494583  -1.4393374  -0.06463853 -0.1837692\n",
            " -0.26273403 -0.11962602  0.02016941 -0.963964   -1.0414884   0.011146\n",
            " -0.76309764 -0.26340422  0.89281565 -0.24517459  0.4634501  -0.06320314\n",
            " -0.17642759 -0.06826149  0.32790285  1.4052526  -0.38012785  0.60061586\n",
            "  0.5367315   0.34420922 -0.18669549  0.4103646   0.6357515   0.14834966\n",
            " -0.52645385 -0.18891147 -0.3097032  -0.53186214 -0.34596783 -0.80408335\n",
            "  0.4246952  -0.19690682 -0.11273869 -1.0292227  -0.11073023  0.5608463\n",
            " -0.93839085  0.333387    0.6886275   1.3495214  -0.48376265  0.05308599\n",
            " -0.55593073 -0.03911583 -0.03120513  0.7506816  -0.15350506 -0.10434909\n",
            "  0.29777807  0.3868114   0.01195735  0.16355126 -0.1433915   0.4639552\n",
            "  0.3831971   0.19103675  0.07361803  0.1562786   0.5706463  -0.0393745\n",
            " -0.8408109  -0.82046044 -0.1839151   0.06475731  0.09749518  0.19023195\n",
            "  0.07821278 -0.44523925 -0.10375918  0.11369438 -0.3155873   0.69917613]\n"
          ],
          "name": "stdout"
        }
      ]
    },
    {
      "cell_type": "code",
      "metadata": {
        "id": "5c5utc3ks1lP",
        "colab_type": "code",
        "outputId": "1f12d55e-f397-4639-f43d-4f9763fc408d",
        "colab": {
          "base_uri": "https://localhost:8080/",
          "height": 101
        }
      },
      "source": [
        "!pip install sklearn\n",
        "from sklearn.metrics.pairwise import cosine_similarity\n",
        "import scipy"
      ],
      "execution_count": 51,
      "outputs": [
        {
          "output_type": "stream",
          "text": [
            "Requirement already satisfied: sklearn in /usr/local/lib/python3.6/dist-packages (0.0)\n",
            "Requirement already satisfied: scikit-learn in /usr/local/lib/python3.6/dist-packages (from sklearn) (0.22.2.post1)\n",
            "Requirement already satisfied: numpy>=1.11.0 in /usr/local/lib/python3.6/dist-packages (from scikit-learn->sklearn) (1.18.3)\n",
            "Requirement already satisfied: joblib>=0.11 in /usr/local/lib/python3.6/dist-packages (from scikit-learn->sklearn) (0.14.1)\n",
            "Requirement already satisfied: scipy>=0.17.0 in /usr/local/lib/python3.6/dist-packages (from scikit-learn->sklearn) (1.4.1)\n"
          ],
          "name": "stdout"
        }
      ]
    },
    {
      "cell_type": "code",
      "metadata": {
        "id": "w9-Aj8gJsi6V",
        "colab_type": "code",
        "outputId": "5b75cf8b-bcde-4c55-88ec-8552272a8379",
        "colab": {
          "base_uri": "https://localhost:8080/",
          "height": 252
        }
      },
      "source": [
        "query = 'HydroxyCholroquinone' #@param {type: 'string'}\n",
        "\n",
        "queries = [query]\n",
        "query_embeddings = model.encode(queries)\n",
        "\n",
        "# Find the closest sentences of the corpus for each query sentence based on cosine similarity\n",
        "number_top_matches =  5#@param {type: \"number\"}\n",
        "\n",
        "print(\"Semantic Search Results\")\n",
        "\n",
        "for query, query_embedding in zip(queries, query_embeddings):\n",
        "    distances = scipy.spatial.distance.cdist([query_embedding], sentence_embeddings, \"cosine\")[0]\n",
        "\n",
        "    results = zip(range(len(distances)), distances)\n",
        "    results = sorted(results, key=lambda x: x[1])\n",
        "\n",
        "    print(\"\\n\\n======================\\n\\n\")\n",
        "    print(\"Query:\", query)\n",
        "    print(\"\\nTop 5 most similar sentences in corpus:\")\n",
        "\n",
        "    for idx, distance in results[0:number_top_matches]:\n",
        "        print(sentences[idx].strip(),  \"(Cosine Score: %.4f)\" % (1-distance))"
      ],
      "execution_count": 55,
      "outputs": [
        {
          "output_type": "stream",
          "text": [
            "Semantic Search Results\n",
            "\n",
            "\n",
            "======================\n",
            "\n",
            "\n",
            "Query: HydroxyCholroquinone\n",
            "\n",
            "Top 5 most similar sentences in corpus:\n",
            "Pharmacology of Chloroquine and Hydroxychloroquine (Cosine Score: 0.8318)\n",
            "Chloroquine or hydroxychloroquine for prophylaxis of COVID-19 (Cosine Score: 0.8263)\n",
            "Hydroxychloroquine and â€œoff-labelâ€ utilization in the treatment of oral conditions (Cosine Score: 0.8070)\n",
            "Nicotine and the renin-angiotensin system (Cosine Score: 0.7832)\n",
            "Synthesis of a-secomethylenamino- and substituted amidoximotriterpenoids (Cosine Score: 0.7750)\n"
          ],
          "name": "stdout"
        }
      ]
    }
  ]
}