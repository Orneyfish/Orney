{
  "nbformat": 4,
  "nbformat_minor": 0,
  "metadata": {
    "colab": {
      "name": " BERT_SENT_EMB_SEARCH_Custom.ipynb",
      "provenance": [],
      "authorship_tag": "ABX9TyPel/Yqb1e2D/DFCIOgURWE",
      "include_colab_link": true
    },
    "kernelspec": {
      "name": "python3",
      "display_name": "Python 3"
    },
    "accelerator": "TPU"
  },
  "cells": [
    {
      "cell_type": "markdown",
      "metadata": {
        "id": "view-in-github",
        "colab_type": "text"
      },
      "source": [
        "<a href=\"https://colab.research.google.com/github/Orneyfish/Orney/blob/master/BERT_SENT_EMB_SEARCH_Custom.ipynb\" target=\"_parent\"><img src=\"https://colab.research.google.com/assets/colab-badge.svg\" alt=\"Open In Colab\"/></a>"
      ]
    },
    {
      "cell_type": "code",
      "metadata": {
        "id": "icQPQWArcgaU",
        "colab_type": "code",
        "outputId": "7c300d74-9d32-4c40-e96e-bd3816be598c",
        "colab": {
          "base_uri": "https://localhost:8080/",
          "height": 373
        }
      },
      "source": [
        "! pip install bert-serving-server bert-serving-client\n",
        "! pip install tensorflow-gpu==1.14.0-rc0"
      ],
      "execution_count": 1,
      "outputs": [
        {
          "output_type": "stream",
          "text": [
            "Collecting bert-serving-server\n",
            "\u001b[?25l  Downloading https://files.pythonhosted.org/packages/b0/bd/cab677bbd0c5fb08b72e468371d2bca6ed9507785739b4656b0b5470d90b/bert_serving_server-1.10.0-py3-none-any.whl (61kB)\n",
            "\r\u001b[K     |█████▎                          | 10kB 20.0MB/s eta 0:00:01\r\u001b[K     |██████████▋                     | 20kB 2.2MB/s eta 0:00:01\r\u001b[K     |████████████████                | 30kB 2.9MB/s eta 0:00:01\r\u001b[K     |█████████████████████▎          | 40kB 2.1MB/s eta 0:00:01\r\u001b[K     |██████████████████████████▋     | 51kB 2.4MB/s eta 0:00:01\r\u001b[K     |███████████████████████████████▉| 61kB 2.9MB/s eta 0:00:01\r\u001b[K     |████████████████████████████████| 71kB 2.5MB/s \n",
            "\u001b[?25hCollecting bert-serving-client\n",
            "  Downloading https://files.pythonhosted.org/packages/1f/09/aae1405378a848b2e87769ad89a43d6d71978c4e15534ca48e82e723a72f/bert_serving_client-1.10.0-py2.py3-none-any.whl\n",
            "Requirement already satisfied: six in /usr/local/lib/python3.6/dist-packages (from bert-serving-server) (1.12.0)\n",
            "Requirement already satisfied: numpy in /usr/local/lib/python3.6/dist-packages (from bert-serving-server) (1.18.3)\n",
            "Requirement already satisfied: termcolor>=1.1 in /usr/local/lib/python3.6/dist-packages (from bert-serving-server) (1.1.0)\n",
            "Collecting GPUtil>=1.3.0\n",
            "  Downloading https://files.pythonhosted.org/packages/ed/0e/5c61eedde9f6c87713e89d794f01e378cfd9565847d4576fa627d758c554/GPUtil-1.4.0.tar.gz\n",
            "Requirement already satisfied: pyzmq>=17.1.0 in /usr/local/lib/python3.6/dist-packages (from bert-serving-server) (19.0.0)\n",
            "Building wheels for collected packages: GPUtil\n",
            "  Building wheel for GPUtil (setup.py) ... \u001b[?25l\u001b[?25hdone\n",
            "  Created wheel for GPUtil: filename=GPUtil-1.4.0-cp36-none-any.whl size=7413 sha256=7909ddc22bc13be3cf941de4535f5ca3847d774745c8d445f0593c14e974bf1f\n",
            "  Stored in directory: /root/.cache/pip/wheels/3d/77/07/80562de4bb0786e5ea186911a2c831fdd0018bda69beab71fd\n",
            "Successfully built GPUtil\n",
            "Installing collected packages: GPUtil, bert-serving-server, bert-serving-client\n",
            "Successfully installed GPUtil-1.4.0 bert-serving-client-1.10.0 bert-serving-server-1.10.0\n",
            "\u001b[31mERROR: Could not find a version that satisfies the requirement tensorflow-gpu==1.14.0-rc0 (from versions: 0.12.1, 1.0.0, 1.0.1, 1.1.0, 1.2.0, 1.2.1, 1.3.0, 1.4.0, 1.4.1, 1.5.0, 1.5.1, 1.6.0, 1.7.0, 1.7.1, 1.8.0, 1.9.0, 1.10.0, 1.10.1, 1.11.0, 1.12.0, 1.12.2, 1.12.3, 1.13.1, 1.13.2, 1.14.0, 1.15.0rc0, 1.15.0rc1, 1.15.0rc2, 1.15.0rc3, 1.15.0, 1.15.2, 2.0.0a0, 2.0.0b0, 2.0.0b1, 2.0.0rc0, 2.0.0rc1, 2.0.0rc2, 2.0.0, 2.0.1, 2.1.0rc0, 2.1.0rc1, 2.1.0rc2, 2.1.0, 2.2.0rc0, 2.2.0rc1, 2.2.0rc2, 2.2.0rc3)\u001b[0m\n",
            "\u001b[31mERROR: No matching distribution found for tensorflow-gpu==1.14.0-rc0\u001b[0m\n"
          ],
          "name": "stdout"
        }
      ]
    },
    {
      "cell_type": "code",
      "metadata": {
        "id": "cnSxPbkxhpsv",
        "colab_type": "code",
        "outputId": "1842ce04-05f0-4cd1-9244-43f490929cc5",
        "colab": {
          "base_uri": "https://localhost:8080/",
          "height": 168
        }
      },
      "source": [
        "! pip install wget"
      ],
      "execution_count": 2,
      "outputs": [
        {
          "output_type": "stream",
          "text": [
            "Collecting wget\n",
            "  Downloading https://files.pythonhosted.org/packages/47/6a/62e288da7bcda82b935ff0c6cfe542970f04e29c756b0e147251b2fb251f/wget-3.2.zip\n",
            "Building wheels for collected packages: wget\n",
            "  Building wheel for wget (setup.py) ... \u001b[?25l\u001b[?25hdone\n",
            "  Created wheel for wget: filename=wget-3.2-cp36-none-any.whl size=9682 sha256=e7c878c9e79acc040c7273b89bb21a29c962a10870c43c71055cccbeaeb5d90a\n",
            "  Stored in directory: /root/.cache/pip/wheels/40/15/30/7d8f7cea2902b4db79e3fea550d7d7b85ecb27ef992b618f3f\n",
            "Successfully built wget\n",
            "Installing collected packages: wget\n",
            "Successfully installed wget-3.2\n"
          ],
          "name": "stdout"
        }
      ]
    },
    {
      "cell_type": "code",
      "metadata": {
        "id": "mi5R5eAAsLwJ",
        "colab_type": "code",
        "outputId": "3858ca61-c3d1-47fb-ccad-8fee10480cbc",
        "colab": {
          "base_uri": "https://localhost:8080/",
          "height": 843
        }
      },
      "source": [
        "# Install the library using pip\n",
        "!pip install sentence-transformers"
      ],
      "execution_count": 3,
      "outputs": [
        {
          "output_type": "stream",
          "text": [
            "Collecting sentence-transformers\n",
            "\u001b[?25l  Downloading https://files.pythonhosted.org/packages/b9/46/b7d6c37d92d1bd65319220beabe4df845434930e3f30e42d3cfaecb74dc4/sentence-transformers-0.2.6.1.tar.gz (55kB)\n",
            "\u001b[K     |████████████████████████████████| 61kB 2.3MB/s \n",
            "\u001b[?25hCollecting transformers>=2.8.0\n",
            "\u001b[?25l  Downloading https://files.pythonhosted.org/packages/a3/78/92cedda05552398352ed9784908b834ee32a0bd071a9b32de287327370b7/transformers-2.8.0-py3-none-any.whl (563kB)\n",
            "\u001b[K     |████████████████████████████████| 573kB 8.3MB/s \n",
            "\u001b[?25hRequirement already satisfied: tqdm in /usr/local/lib/python3.6/dist-packages (from sentence-transformers) (4.38.0)\n",
            "Requirement already satisfied: torch>=1.0.1 in /usr/local/lib/python3.6/dist-packages (from sentence-transformers) (1.4.0)\n",
            "Requirement already satisfied: numpy in /usr/local/lib/python3.6/dist-packages (from sentence-transformers) (1.18.3)\n",
            "Requirement already satisfied: scikit-learn in /usr/local/lib/python3.6/dist-packages (from sentence-transformers) (0.22.2.post1)\n",
            "Requirement already satisfied: scipy in /usr/local/lib/python3.6/dist-packages (from sentence-transformers) (1.4.1)\n",
            "Requirement already satisfied: nltk in /usr/local/lib/python3.6/dist-packages (from sentence-transformers) (3.2.5)\n",
            "Requirement already satisfied: boto3 in /usr/local/lib/python3.6/dist-packages (from transformers>=2.8.0->sentence-transformers) (1.12.43)\n",
            "Collecting tokenizers==0.5.2\n",
            "\u001b[?25l  Downloading https://files.pythonhosted.org/packages/d1/3f/73c881ea4723e43c1e9acf317cf407fab3a278daab3a69c98dcac511c04f/tokenizers-0.5.2-cp36-cp36m-manylinux1_x86_64.whl (3.7MB)\n",
            "\u001b[K     |████████████████████████████████| 3.7MB 27.2MB/s \n",
            "\u001b[?25hCollecting sentencepiece\n",
            "\u001b[?25l  Downloading https://files.pythonhosted.org/packages/98/2c/8df20f3ac6c22ac224fff307ebc102818206c53fc454ecd37d8ac2060df5/sentencepiece-0.1.86-cp36-cp36m-manylinux1_x86_64.whl (1.0MB)\n",
            "\u001b[K     |████████████████████████████████| 1.0MB 45.2MB/s \n",
            "\u001b[?25hRequirement already satisfied: requests in /usr/local/lib/python3.6/dist-packages (from transformers>=2.8.0->sentence-transformers) (2.21.0)\n",
            "Requirement already satisfied: regex!=2019.12.17 in /usr/local/lib/python3.6/dist-packages (from transformers>=2.8.0->sentence-transformers) (2019.12.20)\n",
            "Requirement already satisfied: dataclasses; python_version < \"3.7\" in /usr/local/lib/python3.6/dist-packages (from transformers>=2.8.0->sentence-transformers) (0.7)\n",
            "Collecting sacremoses\n",
            "\u001b[?25l  Downloading https://files.pythonhosted.org/packages/99/50/93509f906a40bffd7d175f97fd75ea328ad9bd91f48f59c4bd084c94a25e/sacremoses-0.0.41.tar.gz (883kB)\n",
            "\u001b[K     |████████████████████████████████| 890kB 34.9MB/s \n",
            "\u001b[?25hRequirement already satisfied: filelock in /usr/local/lib/python3.6/dist-packages (from transformers>=2.8.0->sentence-transformers) (3.0.12)\n",
            "Requirement already satisfied: joblib>=0.11 in /usr/local/lib/python3.6/dist-packages (from scikit-learn->sentence-transformers) (0.14.1)\n",
            "Requirement already satisfied: six in /usr/local/lib/python3.6/dist-packages (from nltk->sentence-transformers) (1.12.0)\n",
            "Requirement already satisfied: s3transfer<0.4.0,>=0.3.0 in /usr/local/lib/python3.6/dist-packages (from boto3->transformers>=2.8.0->sentence-transformers) (0.3.3)\n",
            "Requirement already satisfied: botocore<1.16.0,>=1.15.43 in /usr/local/lib/python3.6/dist-packages (from boto3->transformers>=2.8.0->sentence-transformers) (1.15.43)\n",
            "Requirement already satisfied: jmespath<1.0.0,>=0.7.1 in /usr/local/lib/python3.6/dist-packages (from boto3->transformers>=2.8.0->sentence-transformers) (0.9.5)\n",
            "Requirement already satisfied: chardet<3.1.0,>=3.0.2 in /usr/local/lib/python3.6/dist-packages (from requests->transformers>=2.8.0->sentence-transformers) (3.0.4)\n",
            "Requirement already satisfied: certifi>=2017.4.17 in /usr/local/lib/python3.6/dist-packages (from requests->transformers>=2.8.0->sentence-transformers) (2020.4.5.1)\n",
            "Requirement already satisfied: urllib3<1.25,>=1.21.1 in /usr/local/lib/python3.6/dist-packages (from requests->transformers>=2.8.0->sentence-transformers) (1.24.3)\n",
            "Requirement already satisfied: idna<2.9,>=2.5 in /usr/local/lib/python3.6/dist-packages (from requests->transformers>=2.8.0->sentence-transformers) (2.8)\n",
            "Requirement already satisfied: click in /usr/local/lib/python3.6/dist-packages (from sacremoses->transformers>=2.8.0->sentence-transformers) (7.1.1)\n",
            "Requirement already satisfied: python-dateutil<3.0.0,>=2.1 in /usr/local/lib/python3.6/dist-packages (from botocore<1.16.0,>=1.15.43->boto3->transformers>=2.8.0->sentence-transformers) (2.8.1)\n",
            "Requirement already satisfied: docutils<0.16,>=0.10 in /usr/local/lib/python3.6/dist-packages (from botocore<1.16.0,>=1.15.43->boto3->transformers>=2.8.0->sentence-transformers) (0.15.2)\n",
            "Building wheels for collected packages: sentence-transformers, sacremoses\n",
            "  Building wheel for sentence-transformers (setup.py) ... \u001b[?25l\u001b[?25hdone\n",
            "  Created wheel for sentence-transformers: filename=sentence_transformers-0.2.6.1-cp36-none-any.whl size=74031 sha256=6e189942a36489773df386e0bab60c7ac3ea29bbf7791db7cbdeaa1e1628bb7a\n",
            "  Stored in directory: /root/.cache/pip/wheels/d7/fa/17/2b081a8cd8b0a86753fb0e9826b3cc19f0207062c0b2da7008\n",
            "  Building wheel for sacremoses (setup.py) ... \u001b[?25l\u001b[?25hdone\n",
            "  Created wheel for sacremoses: filename=sacremoses-0.0.41-cp36-none-any.whl size=893334 sha256=da39e6a7ec9777728b26bf2fe7f010360ba2ffdb70650759af50ea9c4d8fe672\n",
            "  Stored in directory: /root/.cache/pip/wheels/22/5a/d4/b020a81249de7dc63758a34222feaa668dbe8ebfe9170cc9b1\n",
            "Successfully built sentence-transformers sacremoses\n",
            "Installing collected packages: tokenizers, sentencepiece, sacremoses, transformers, sentence-transformers\n",
            "Successfully installed sacremoses-0.0.41 sentence-transformers-0.2.6.1 sentencepiece-0.1.86 tokenizers-0.5.2 transformers-2.8.0\n"
          ],
          "name": "stdout"
        }
      ]
    },
    {
      "cell_type": "code",
      "metadata": {
        "id": "uTwVm5j2nkdZ",
        "colab_type": "code",
        "colab": {
          "base_uri": "https://localhost:8080/",
          "height": 138
        },
        "outputId": "d6d0a3ce-31be-4e84-c943-d232f4af44e3"
      },
      "source": [
        "!pip install elasticsearch"
      ],
      "execution_count": 26,
      "outputs": [
        {
          "output_type": "stream",
          "text": [
            "Collecting elasticsearch\n",
            "\u001b[?25l  Downloading https://files.pythonhosted.org/packages/cc/cf/7973ac58090b960857da04add0b345415bf1e1741beddf4cbe136b8ad174/elasticsearch-7.6.0-py2.py3-none-any.whl (88kB)\n",
            "\r\u001b[K     |███▊                            | 10kB 17.1MB/s eta 0:00:01\r\u001b[K     |███████▍                        | 20kB 2.2MB/s eta 0:00:01\r\u001b[K     |███████████                     | 30kB 2.8MB/s eta 0:00:01\r\u001b[K     |██████████████▉                 | 40kB 2.1MB/s eta 0:00:01\r\u001b[K     |██████████████████▌             | 51kB 2.3MB/s eta 0:00:01\r\u001b[K     |██████████████████████▏         | 61kB 2.7MB/s eta 0:00:01\r\u001b[K     |█████████████████████████▉      | 71kB 2.9MB/s eta 0:00:01\r\u001b[K     |█████████████████████████████▋  | 81kB 3.3MB/s eta 0:00:01\r\u001b[K     |████████████████████████████████| 92kB 2.9MB/s \n",
            "\u001b[?25hRequirement already satisfied: urllib3>=1.21.1 in /usr/local/lib/python3.6/dist-packages (from elasticsearch) (1.24.3)\n",
            "Installing collected packages: elasticsearch\n",
            "Successfully installed elasticsearch-7.6.0\n"
          ],
          "name": "stdout"
        }
      ]
    },
    {
      "cell_type": "code",
      "metadata": {
        "id": "jnj1qZGSsTTi",
        "colab_type": "code",
        "outputId": "140e2ad4-240b-4ca2-b2a6-fa36721b1d16",
        "colab": {
          "base_uri": "https://localhost:8080/",
          "height": 34
        }
      },
      "source": [
        "from sentence_transformers import SentenceTransformer\n",
        "\n",
        "# Load the BERT model. Various models trained on Natural Language Inference (NLI) https://github.com/UKPLab/sentence-transformers/blob/master/docs/pretrained-models/nli-models.md and \n",
        "# Semantic Textual Similarity are available https://github.com/UKPLab/sentence-transformers/blob/master/docs/pretrained-models/sts-models.md\n",
        "\n",
        "model = SentenceTransformer('bert-base-nli-mean-tokens')"
      ],
      "execution_count": 4,
      "outputs": [
        {
          "output_type": "stream",
          "text": [
            "100%|██████████| 405M/405M [00:19<00:00, 20.3MB/s]\n"
          ],
          "name": "stderr"
        }
      ]
    },
    {
      "cell_type": "code",
      "metadata": {
        "id": "Bj6W7LJazag3",
        "colab_type": "code",
        "outputId": "03c22790-1e2a-49d6-a800-33e736a94446",
        "colab": {
          "base_uri": "https://localhost:8080/",
          "height": 377
        }
      },
      "source": [
        "import pandas as pd\n",
        "\n",
        "# Load the dataset into a pandas dataframe.\n",
        "df = pd.read_csv(\"/documen12.tsv\", delimiter='\\t', header=None, names=['title', 'abstract', 'body_text'] )\n",
        "\n",
        "# Report the number of sentences.\n",
        "print('Number of training sentences: {:,}\\n'.format(df.shape[0]))\n",
        "\n",
        "# Display 10 random rows from the data.\n",
        "df.sample(10)"
      ],
      "execution_count": 38,
      "outputs": [
        {
          "output_type": "stream",
          "text": [
            "Number of training sentences: 13\n",
            "\n"
          ],
          "name": "stdout"
        },
        {
          "output_type": "execute_result",
          "data": {
            "text/html": [
              "<div>\n",
              "<style scoped>\n",
              "    .dataframe tbody tr th:only-of-type {\n",
              "        vertical-align: middle;\n",
              "    }\n",
              "\n",
              "    .dataframe tbody tr th {\n",
              "        vertical-align: top;\n",
              "    }\n",
              "\n",
              "    .dataframe thead th {\n",
              "        text-align: right;\n",
              "    }\n",
              "</style>\n",
              "<table border=\"1\" class=\"dataframe\">\n",
              "  <thead>\n",
              "    <tr style=\"text-align: right;\">\n",
              "      <th></th>\n",
              "      <th>title</th>\n",
              "      <th>abstract</th>\n",
              "      <th>body_text</th>\n",
              "    </tr>\n",
              "  </thead>\n",
              "  <tbody>\n",
              "    <tr>\n",
              "      <th>10</th>\n",
              "      <td>When are pathogen genome sequences informative...</td>\n",
              "      <td>Recent years have seen the development of nume...</td>\n",
              "      <td>a1111111111 a1111111111 a1111111111 a111111111...</td>\n",
              "    </tr>\n",
              "    <tr>\n",
              "      <th>6</th>\n",
              "      <td>Pacific Observatory on Health Systems and Poli...</td>\n",
              "      <td>NaN</td>\n",
              "      <td>Are high-performing health systems resilient a...</td>\n",
              "    </tr>\n",
              "    <tr>\n",
              "      <th>9</th>\n",
              "      <td>What can we predict about viral evolution and ...</td>\n",
              "      <td>Predicting the emergence of infectious disease...</td>\n",
              "      <td>The SARS epidemic of 2003, the global spread o...</td>\n",
              "    </tr>\n",
              "    <tr>\n",
              "      <th>4</th>\n",
              "      <td>Allergologia et immunopathologia Does atopy af...</td>\n",
              "      <td>Background: The presence of atopy is considere...</td>\n",
              "      <td>Interaction between asthma and viral infection...</td>\n",
              "    </tr>\n",
              "    <tr>\n",
              "      <th>5</th>\n",
              "      <td>Journal Pre-proof What Should Gastroenterologi...</td>\n",
              "      <td>NaN</td>\n",
              "      <td>necessary precautions to take. COVID-19 has be...</td>\n",
              "    </tr>\n",
              "    <tr>\n",
              "      <th>0</th>\n",
              "      <td>metadata_title</td>\n",
              "      <td>abstract_text</td>\n",
              "      <td>body_text_text</td>\n",
              "    </tr>\n",
              "    <tr>\n",
              "      <th>8</th>\n",
              "      <td>viruses Can Bats Serve as Reservoirs for Arbov...</td>\n",
              "      <td>Bats are known to harbor and transmit many eme...</td>\n",
              "      <td>Bats and the viruses they harbor have been of ...</td>\n",
              "    </tr>\n",
              "    <tr>\n",
              "      <th>2</th>\n",
              "      <td>Comment 760 www</td>\n",
              "      <td>NaN</td>\n",
              "      <td>Since December, 2019, the outbreak of the 2019...</td>\n",
              "    </tr>\n",
              "    <tr>\n",
              "      <th>3</th>\n",
              "      <td>The Impact of Host-Based Early Warning on Dise...</td>\n",
              "      <td>The detection of communicable pathogens respon...</td>\n",
              "      <td>The detection of communicable pathogens respon...</td>\n",
              "    </tr>\n",
              "    <tr>\n",
              "      <th>11</th>\n",
              "      <td>Does genetic diversity limit disease spread in...</td>\n",
              "      <td>It is a commonly held view that genetically ho...</td>\n",
              "      <td>It seems to be conventional wisdom that geneti...</td>\n",
              "    </tr>\n",
              "  </tbody>\n",
              "</table>\n",
              "</div>"
            ],
            "text/plain": [
              "                                                title  ...                                          body_text\n",
              "10  When are pathogen genome sequences informative...  ...  a1111111111 a1111111111 a1111111111 a111111111...\n",
              "6   Pacific Observatory on Health Systems and Poli...  ...  Are high-performing health systems resilient a...\n",
              "9   What can we predict about viral evolution and ...  ...  The SARS epidemic of 2003, the global spread o...\n",
              "4   Allergologia et immunopathologia Does atopy af...  ...  Interaction between asthma and viral infection...\n",
              "5   Journal Pre-proof What Should Gastroenterologi...  ...  necessary precautions to take. COVID-19 has be...\n",
              "0                                      metadata_title  ...                                     body_text_text\n",
              "8   viruses Can Bats Serve as Reservoirs for Arbov...  ...  Bats and the viruses they harbor have been of ...\n",
              "2                                     Comment 760 www  ...  Since December, 2019, the outbreak of the 2019...\n",
              "3   The Impact of Host-Based Early Warning on Dise...  ...  The detection of communicable pathogens respon...\n",
              "11  Does genetic diversity limit disease spread in...  ...  It seems to be conventional wisdom that geneti...\n",
              "\n",
              "[10 rows x 3 columns]"
            ]
          },
          "metadata": {
            "tags": []
          },
          "execution_count": 38
        }
      ]
    },
    {
      "cell_type": "code",
      "metadata": {
        "id": "Ww5ElzSVwVUK",
        "colab_type": "code",
        "colab": {}
      },
      "source": [
        "for "
      ],
      "execution_count": 0,
      "outputs": []
    },
    {
      "cell_type": "code",
      "metadata": {
        "id": "J-0cduJbziwH",
        "colab_type": "code",
        "outputId": "df3245b1-ea40-4715-e7a4-a751a84cc0c6",
        "colab": {
          "base_uri": "https://localhost:8080/",
          "height": 195
        }
      },
      "source": [
        "df.sample(5)[['abstract', 'body_text']]"
      ],
      "execution_count": 40,
      "outputs": [
        {
          "output_type": "execute_result",
          "data": {
            "text/html": [
              "<div>\n",
              "<style scoped>\n",
              "    .dataframe tbody tr th:only-of-type {\n",
              "        vertical-align: middle;\n",
              "    }\n",
              "\n",
              "    .dataframe tbody tr th {\n",
              "        vertical-align: top;\n",
              "    }\n",
              "\n",
              "    .dataframe thead th {\n",
              "        text-align: right;\n",
              "    }\n",
              "</style>\n",
              "<table border=\"1\" class=\"dataframe\">\n",
              "  <thead>\n",
              "    <tr style=\"text-align: right;\">\n",
              "      <th></th>\n",
              "      <th>abstract</th>\n",
              "      <th>body_text</th>\n",
              "    </tr>\n",
              "  </thead>\n",
              "  <tbody>\n",
              "    <tr>\n",
              "      <th>12</th>\n",
              "      <td>NaN</td>\n",
              "      <td>What is the time-scale of hantavirus evolution...</td>\n",
              "    </tr>\n",
              "    <tr>\n",
              "      <th>7</th>\n",
              "      <td>In many infectious diseases caused by either v...</td>\n",
              "      <td>Most DENV infections are asymptomatic or remai...</td>\n",
              "    </tr>\n",
              "    <tr>\n",
              "      <th>6</th>\n",
              "      <td>NaN</td>\n",
              "      <td>Are high-performing health systems resilient a...</td>\n",
              "    </tr>\n",
              "    <tr>\n",
              "      <th>10</th>\n",
              "      <td>Recent years have seen the development of nume...</td>\n",
              "      <td>a1111111111 a1111111111 a1111111111 a111111111...</td>\n",
              "    </tr>\n",
              "    <tr>\n",
              "      <th>9</th>\n",
              "      <td>Predicting the emergence of infectious disease...</td>\n",
              "      <td>The SARS epidemic of 2003, the global spread o...</td>\n",
              "    </tr>\n",
              "  </tbody>\n",
              "</table>\n",
              "</div>"
            ],
            "text/plain": [
              "                                             abstract                                          body_text\n",
              "12                                                NaN  What is the time-scale of hantavirus evolution...\n",
              "7   In many infectious diseases caused by either v...  Most DENV infections are asymptomatic or remai...\n",
              "6                                                 NaN  Are high-performing health systems resilient a...\n",
              "10  Recent years have seen the development of nume...  a1111111111 a1111111111 a1111111111 a111111111...\n",
              "9   Predicting the emergence of infectious disease...  The SARS epidemic of 2003, the global spread o..."
            ]
          },
          "metadata": {
            "tags": []
          },
          "execution_count": 40
        }
      ]
    },
    {
      "cell_type": "code",
      "metadata": {
        "id": "PvoW7l6Tznr1",
        "colab_type": "code",
        "colab": {}
      },
      "source": [
        "# Get the lists of sentences and their labels.\n",
        "sentences = df.body_text.values\n",
        "labels = df.abstract.values"
      ],
      "execution_count": 0,
      "outputs": []
    },
    {
      "cell_type": "code",
      "metadata": {
        "id": "X-G24YDeztnI",
        "colab_type": "code",
        "outputId": "b16cb4c2-3e23-401b-c226-c0b810e0c27c",
        "colab": {
          "base_uri": "https://localhost:8080/",
          "height": 34
        }
      },
      "source": [
        "from transformers import BertTokenizer\n",
        "\n",
        "# Load the BERT tokenizer.\n",
        "print('Loading BERT tokenizer...')\n",
        "tokenizer = BertTokenizer.from_pretrained('bert-base-uncased', do_lower_case=True)"
      ],
      "execution_count": 42,
      "outputs": [
        {
          "output_type": "stream",
          "text": [
            "Loading BERT tokenizer...\n"
          ],
          "name": "stdout"
        }
      ]
    },
    {
      "cell_type": "code",
      "metadata": {
        "id": "n6ED6t4rzzyv",
        "colab_type": "code",
        "outputId": "d2d61fbe-ed27-4fd4-facd-221e9b4e5b32",
        "colab": {
          "base_uri": "https://localhost:8080/",
          "height": 67
        }
      },
      "source": [
        "# Print the original sentence.\n",
        "print(' Original: ', sentences[0])\n",
        "\n",
        "# Print the sentence split into tokens.\n",
        "print('Tokenized: ', tokenizer.tokenize(sentences[0]))\n",
        "\n",
        "# Print the sentence mapped to token ids.\n",
        "print('Token IDs: ', tokenizer.convert_tokens_to_ids(tokenizer.tokenize(sentences[0])))"
      ],
      "execution_count": 43,
      "outputs": [
        {
          "output_type": "stream",
          "text": [
            " Original:  body_text_text\n",
            "Tokenized:  ['body', '_', 'text', '_', 'text']\n",
            "Token IDs:  [2303, 1035, 3793, 1035, 3793]\n"
          ],
          "name": "stdout"
        }
      ]
    },
    {
      "cell_type": "code",
      "metadata": {
        "id": "yd1AHyHMse4X",
        "colab_type": "code",
        "outputId": "2229928b-0fd6-433b-f847-22b0af894001",
        "colab": {
          "base_uri": "https://localhost:8080/",
          "height": 1000
        }
      },
      "source": [
        "# A corpus is a list with documents split by sentences.\n",
        "\n",
        "# Each sentence is encoded as a 1-D vector with 78 columns\n",
        "sentence_embeddings = model.encode(sentences)\n",
        "\n",
        "print('Sample BERT embedding vector - length', len(sentence_embeddings[0]))\n",
        "\n",
        "print('Sample BERT embedding vector - note includes negative values', sentence_embeddings[0])"
      ],
      "execution_count": 44,
      "outputs": [
        {
          "output_type": "stream",
          "text": [
            "Sample BERT embedding vector - length 768\n",
            "Sample BERT embedding vector - note includes negative values [ 6.49456441e-01  1.37233362e-01  1.06209147e+00  8.44755024e-02\n",
            "  3.44886482e-01 -4.53115217e-02  2.68709332e-01  6.49851978e-01\n",
            " -4.26011123e-02  1.27461359e-01 -6.22585714e-01  7.90468633e-01\n",
            " -1.17357008e-01  1.09976113e-01  6.28914893e-01 -4.00208728e-03\n",
            " -7.63335526e-01  3.54479402e-01  2.83118725e-01 -4.68173832e-01\n",
            " -1.84548929e-01  6.44577920e-01 -1.93016067e-01 -1.15442562e+00\n",
            " -1.33958295e-01 -1.90421715e-01  1.04684226e-01 -1.04109216e+00\n",
            " -1.41261780e+00  2.56549925e-01  4.10859063e-02 -9.48879361e-01\n",
            "  5.28176948e-02 -1.60145283e-01  6.36121750e-01  1.18836589e-01\n",
            " -2.28691563e-01 -1.31526858e-01  1.15074016e-01 -2.35766366e-01\n",
            " -1.17113650e-01  2.14601174e-01  2.36555740e-01 -3.88572738e-02\n",
            " -1.08174717e+00 -1.40966550e-01 -2.10934862e-01  1.99745566e-01\n",
            " -5.70394635e-01 -4.26906794e-01 -8.54760945e-01 -6.36419177e-01\n",
            "  1.07372665e+00  1.02457333e+00  1.54967651e-01  2.26381980e-02\n",
            "  5.98200321e-01 -1.18594229e+00 -2.03239638e-02  8.75021145e-02\n",
            "  3.97641897e-01 -5.78265190e-01  1.41282201e-01  5.67325294e-01\n",
            " -2.96815723e-01  3.63491401e-02  1.29264444e-01 -5.19027650e-01\n",
            " -1.24307287e+00 -3.97602096e-02  1.17701375e+00 -6.44961223e-02\n",
            " -8.83900747e-02 -1.15804411e-01 -1.02212012e+00 -5.92292622e-02\n",
            "  2.10328415e-01  5.86933255e-01  5.12021482e-01  4.49705184e-01\n",
            " -8.46492425e-02  2.97949374e-01  1.00278318e+00  6.15040362e-01\n",
            " -3.83988649e-01  4.91763115e-01  2.08310738e-01  5.18670142e-01\n",
            " -6.82020962e-01  8.12241852e-01 -2.55382806e-01  7.43677974e-01\n",
            "  1.09435119e-01 -1.23482466e-01  5.15990138e-01 -1.69493422e-01\n",
            " -4.86216068e-01  1.05394937e-01  1.41185865e-01 -9.58992839e-01\n",
            " -1.29683530e+00 -7.13769257e-01 -1.87736750e-01 -9.71908960e-03\n",
            " -2.96499670e-01 -2.88866252e-01 -1.04206920e+00  8.92660260e-01\n",
            "  6.93332553e-01  7.38860250e-01  3.54553163e-01  2.43563384e-01\n",
            "  4.72694248e-01 -4.44775581e-01  2.69675314e-01 -4.06510085e-01\n",
            " -8.82184684e-01 -2.75413036e-01 -2.84035444e-01  8.94121528e-01\n",
            " -6.59250855e-01  1.03569496e+00  7.56219178e-02 -3.38132441e-01\n",
            "  8.34406257e-01  2.24273317e-02  5.38165152e-01  6.29402101e-02\n",
            " -1.06345010e+00  1.04472674e-01  1.58215255e-01  7.38194883e-01\n",
            "  8.37437809e-01  5.16397180e-03 -9.22077149e-02 -2.04896092e-01\n",
            "  2.19141364e-01 -2.37230301e-01  1.20627150e-01 -6.95797279e-02\n",
            " -8.39570045e-01  2.50001848e-01 -1.56040177e-01  9.16151941e-01\n",
            "  3.20609748e-01 -4.58181709e-01 -3.70084643e-02 -1.00014828e-01\n",
            " -7.06441820e-01  1.82963327e-01 -9.48574185e-01  6.44055903e-01\n",
            "  1.58448681e-01 -9.89606321e-01 -6.55532837e-01  6.03145599e-01\n",
            "  9.39775184e-02  7.24852979e-01  5.12289584e-01 -1.76797509e-01\n",
            " -2.29468141e-02  9.32973683e-01 -2.09920272e-01 -2.34555319e-01\n",
            " -4.93585408e-01 -6.99812770e-02  8.23025554e-02  2.91817158e-01\n",
            "  8.34174335e-01 -9.81014729e-01  1.48604721e-01 -1.91214752e+00\n",
            "  2.01261893e-01  8.81607175e-01  1.66452482e-01  2.58184802e-02\n",
            "  1.00882304e+00  9.60942924e-01  6.52818024e-01 -7.97030449e-01\n",
            " -6.17545331e-03  8.83268833e-01 -1.19744409e-02 -3.03177088e-01\n",
            " -6.21265769e-01 -3.50524902e-01  4.59327519e-01 -1.95938617e-01\n",
            " -6.67445958e-01  5.67739248e-01 -1.53830558e-01 -8.38280976e-01\n",
            "  7.83131957e-01 -6.63902581e-01 -1.70937270e-01 -3.54354769e-01\n",
            " -8.89400840e-01  1.41565502e-01 -2.04122022e-01 -8.60970840e-02\n",
            "  8.89663637e-01 -3.65541309e-01  5.97274423e-01 -4.33773279e-01\n",
            "  7.79251218e-01  8.32532108e-01  1.44557983e-01  5.65851510e-01\n",
            "  2.97177732e-01 -5.57435572e-01 -8.10753286e-01  3.97037238e-01\n",
            "  4.43023676e-03  6.58919692e-01  1.00226149e-01 -9.65294778e-01\n",
            "  7.94672370e-01 -5.09368002e-01 -3.92363220e-01 -9.04981866e-02\n",
            "  1.18905294e+00  5.16493991e-02  2.92889148e-01  6.46781623e-01\n",
            " -1.10856366e+00  1.25584626e+00 -1.54874966e-01  3.49528156e-02\n",
            "  3.20046872e-01  1.61110252e-01  8.46702397e-01 -1.96969248e-02\n",
            " -9.74117458e-01  1.08143723e+00  1.35032699e-01  1.91414848e-01\n",
            "  4.29358721e-01 -4.00359705e-02 -1.10178746e-01  3.11987013e-01\n",
            "  1.50257081e-01  1.04131413e+00  5.51346064e-01  3.85357141e-01\n",
            " -1.45871568e+00 -9.52977598e-01  6.67649925e-01 -4.55298573e-01\n",
            " -8.32012743e-02  3.21477473e-01  1.43660590e-01 -7.60681748e-01\n",
            " -3.46288443e-01 -4.77451757e-02 -1.48907453e-01  2.11357083e-02\n",
            " -1.60009310e-01  4.74269062e-01  6.66175306e-01 -1.78962901e-01\n",
            " -4.47518051e-01 -3.71172369e-01 -1.92079693e-01  5.64537227e-01\n",
            " -5.10518432e-01  6.86608553e-02 -4.29392725e-01  2.90118754e-01\n",
            "  6.40094727e-02  5.03831744e-01 -4.23594207e-01 -3.14673930e-01\n",
            " -5.37243664e-01 -2.14126036e-01  2.36231878e-01 -1.57910854e-01\n",
            "  7.61149406e-01  1.93856016e-03 -1.20716691e-01  7.82336947e-03\n",
            " -5.96266866e-01  4.09011930e-01 -1.23433053e+00 -4.83137339e-01\n",
            "  4.81635392e-01 -2.26646513e-02  1.85832575e-01 -1.09193099e+00\n",
            " -3.43124449e-01  5.60447514e-01 -7.02137530e-01 -2.69905597e-01\n",
            "  2.49413148e-01 -7.36266613e-01  5.08663416e-01 -3.60045284e-01\n",
            "  2.60983199e-01 -4.97829288e-01 -1.05007565e+00  4.56127137e-01\n",
            " -4.31739599e-01  2.30371669e-01 -4.74858671e-01  4.58371818e-01\n",
            "  3.01277399e-01 -5.57981133e-01 -2.59377748e-01  9.50878263e-01\n",
            " -1.86936200e+00 -3.41538191e-01 -7.30041981e-01 -1.79983839e-01\n",
            "  6.32096827e-01 -2.27162629e-01 -2.58114696e-01 -8.46790597e-02\n",
            " -2.58861005e-01  2.95142919e-01 -4.74104434e-01 -5.90606689e-01\n",
            " -3.86033863e-01  4.00426954e-01 -1.93181992e-01  9.14992318e-02\n",
            "  1.23742439e-01  3.41161102e-01 -6.72957122e-01  6.20537698e-01\n",
            " -4.58980083e-01 -4.85871702e-01  1.05333972e+00 -1.05191350e+00\n",
            " -5.09338796e-01  1.02187407e+00 -5.05234003e-02  1.22893178e+00\n",
            "  5.53727865e-01 -4.68502104e-01  6.13792725e-02 -1.48482108e-02\n",
            "  2.28379760e-02 -2.01914683e-01  7.09042773e-02 -8.88388380e-02\n",
            "  1.42935872e+00 -4.64111656e-01 -3.78729552e-01 -9.21993136e-01\n",
            "  6.45870268e-01  4.73076910e-01 -2.67592371e-01 -4.09563482e-01\n",
            "  1.00033149e-01  2.18204707e-01 -8.34775269e-01 -1.92037299e-01\n",
            "  1.99441880e-01 -2.11985812e-01 -1.86489504e-02 -2.12078810e-01\n",
            "  3.44923288e-01  5.31549513e-01 -2.68352535e-02 -7.02426791e-01\n",
            " -4.45007831e-01 -4.63189930e-01  1.07541549e+00 -1.79951176e-01\n",
            "  5.18482804e-01 -3.13029051e-01  3.45784128e-01 -4.44507599e-01\n",
            " -2.01729789e-01  3.13961595e-01 -5.31669021e-01 -3.55812252e-01\n",
            "  3.45111430e-01 -4.05727059e-01 -3.83129686e-01 -3.43059689e-01\n",
            "  1.41312808e-01 -1.02816486e+00 -7.13329166e-02 -5.81504345e-01\n",
            "  5.83925307e-01 -5.58753423e-02 -7.41312355e-02 -1.14353681e+00\n",
            " -2.82715648e-01 -7.73494393e-02  2.88160712e-01  2.69611984e-01\n",
            "  5.51245630e-01  1.95652433e-02  8.13347697e-02 -1.34522927e+00\n",
            "  2.85511315e-01  9.82831180e-01 -9.54080075e-02 -5.30012790e-03\n",
            " -3.49526346e-01  1.22058384e-01  2.81658620e-01 -5.95430732e-01\n",
            "  1.35441154e-01 -5.90879321e-01  3.92699569e-01 -6.23009503e-01\n",
            " -3.68644446e-01 -1.38658178e+00 -9.11437809e-01 -1.19423413e+00\n",
            " -5.96920848e-01  1.70496151e-01 -1.57439506e+00  7.68117011e-01\n",
            " -2.13438526e-01 -8.98675561e-01  3.38720679e-02  9.17324603e-01\n",
            " -4.26368475e-01 -8.10015976e-01 -2.47819409e-01 -2.84727901e-01\n",
            " -6.48732603e-01  5.10256410e-01  9.60195344e-03 -2.22703919e-01\n",
            "  9.06286761e-02  8.96669477e-02 -6.77770615e-01 -1.91340074e-01\n",
            " -8.12917650e-01  5.57239056e-01  1.50081292e-01 -5.92958868e-01\n",
            " -3.46677691e-01  5.16288936e-01 -5.26518881e-01 -3.75452816e-01\n",
            "  5.08571506e-01  6.06776118e-01  1.72092244e-01 -1.83449417e-01\n",
            " -4.97801811e-01  1.84359446e-01 -7.81384289e-01 -4.68795627e-01\n",
            "  9.38218474e-01 -7.38851368e-01 -8.60504135e-02  7.33820140e-01\n",
            "  8.33936930e-02  5.07492304e-01  4.84534015e-04  4.02183980e-01\n",
            " -5.10574996e-01  8.54906905e-03  6.37312591e-01 -1.35190403e+00\n",
            "  1.16150342e-01  4.09984648e-01 -2.69814074e-01 -5.51832356e-02\n",
            "  2.94280142e-01  3.68759543e-01 -8.40426147e-01  4.23698008e-01\n",
            " -3.70196775e-02  3.49859178e-01  7.07211435e-01 -4.08376843e-01\n",
            "  8.11426789e-02  4.86416876e-01  4.94809240e-01  3.29119265e-02\n",
            " -1.45886683e+00  2.85120666e-01 -1.00498199e-01  4.04724598e-01\n",
            " -5.90328336e-01  6.01238787e-01  2.23820433e-01  3.71215820e-01\n",
            " -8.31665218e-01  6.51066184e-01  8.88114095e-01  1.24611628e+00\n",
            "  6.85072422e-01  2.71446019e-01  7.55141616e-01 -1.17543089e+00\n",
            "  1.58503801e-01 -3.24173033e-01 -1.89982072e-01  5.48454523e-01\n",
            " -9.27825153e-01 -3.39539587e-01  5.71345389e-01  3.81619006e-01\n",
            "  3.06718528e-01 -3.76239717e-01 -4.26159650e-01 -4.54502791e-01\n",
            "  4.56031978e-01  9.74047303e-01  2.58620113e-01  8.74796033e-01\n",
            "  6.74215615e-01  7.56429732e-01 -1.11309552e+00  4.43505198e-01\n",
            " -5.67774236e-01 -2.59150952e-01 -3.62975597e-01 -3.27127665e-01\n",
            "  4.19679403e-01  5.11194885e-01  2.00485915e-01 -6.66910589e-01\n",
            "  1.71568274e-01 -9.33172181e-02 -4.04475361e-01 -6.24667823e-01\n",
            " -2.02346757e-01 -6.63787961e-01  9.05428410e-01  1.33583665e-01\n",
            "  9.46782649e-01 -3.55053805e-02 -5.68312407e-02  2.74839669e-01\n",
            " -2.77355518e-02  8.89306545e-01  4.15070653e-02  1.14148550e-01\n",
            "  1.71543345e-01  2.88090944e-01  5.54923713e-01 -5.09967268e-01\n",
            " -1.23331621e-01  2.85394281e-01  8.53067577e-01 -1.57758713e+00\n",
            " -3.50308090e-01  3.82407278e-01 -9.41321440e-03 -3.35314065e-01\n",
            "  5.40582776e-01 -7.98523605e-01 -4.52384442e-01 -1.33890286e-01\n",
            "  4.43691671e-01  6.06140912e-01 -3.54741007e-01 -2.40697369e-01\n",
            " -4.46477085e-01  8.08479011e-01 -2.00994834e-01 -2.20339015e-01\n",
            " -4.02273178e-01 -1.46732643e-01  2.45975047e-01  1.19908638e-01\n",
            " -3.22766989e-01 -2.89408909e-03 -2.35484019e-01  7.09654450e-01\n",
            "  3.94154973e-02  3.52162749e-01  3.43184978e-01 -5.03265560e-01\n",
            "  3.21336180e-01  1.35197091e+00 -2.01451510e-01 -3.73213768e-01\n",
            "  8.64868164e-01  1.56379476e-01 -1.12262344e+00 -6.96226001e-01\n",
            "  2.17645969e-02  2.71533698e-01 -2.47712463e-01 -1.14044785e+00\n",
            " -4.36326802e-01 -2.42288589e-01  1.34743285e+00 -8.60422075e-01\n",
            "  5.72137348e-02  3.49022478e-01 -8.67343619e-02  3.09125662e-01\n",
            "  4.57303077e-01 -8.74149203e-02  6.47628486e-01 -1.93894744e-01\n",
            " -4.35347736e-01  1.22986495e+00 -2.02351049e-01  3.27263981e-01\n",
            " -3.53039533e-01 -1.11542329e-01 -7.39735603e-01  7.21846163e-01\n",
            " -3.52050513e-01  1.43251285e-01 -8.26493800e-01  1.78441517e-02\n",
            " -8.82459804e-02  3.30668598e-01  2.28580251e-01 -5.67078471e-01\n",
            "  7.86353871e-02 -5.33603847e-01 -4.14450437e-01 -1.54799080e+00\n",
            " -4.17218298e-01  4.20831650e-01  5.52016556e-01  2.21690848e-01\n",
            "  1.08754568e-01 -1.04039975e-01 -1.48526326e-01 -2.39353344e-01\n",
            "  2.79829413e-01 -5.77638447e-01  2.34553646e-02 -8.54331255e-02\n",
            " -1.45600006e-01  1.50558516e-01  6.38021410e-01  5.96388638e-01\n",
            "  3.03673923e-01  5.15551150e-01  6.10933006e-01  1.03590786e+00\n",
            " -7.86118060e-02  6.65552914e-03  6.17720187e-01 -1.07808602e+00\n",
            "  2.23985121e-01 -1.96293429e-01  4.01613176e-01 -8.20716262e-01\n",
            "  7.42187500e-01 -1.54328495e-01 -9.39210296e-01  7.49220967e-01\n",
            "  3.45724106e-01  1.28731465e+00 -4.04783249e-01 -5.26893556e-01\n",
            " -2.63652831e-01 -1.23627596e-01  3.86671305e-01  2.51694888e-01\n",
            "  3.18047434e-01 -2.05684468e-01  7.70719171e-01 -5.18322170e-01\n",
            "  1.62760511e-01  2.26563856e-01 -1.25765339e-01  1.28093874e-02\n",
            "  5.19379139e-01 -3.25842172e-01  9.08808708e-02  1.16759695e-01\n",
            " -4.80040103e-01  5.62096953e-01  5.11347830e-01  1.99396864e-01\n",
            "  3.65231216e-01 -2.86568195e-01 -2.20353287e-02  1.41349137e-01\n",
            "  1.43722570e+00  5.40244460e-01 -7.95609474e-01 -3.20965916e-01\n",
            "  4.28157270e-01 -1.94845319e-01 -3.45576763e-01 -2.48512626e-01\n",
            " -2.26856135e-02 -1.52858004e-01 -5.16228020e-01 -4.77847427e-01\n",
            "  2.94367105e-01 -3.25002849e-01  6.96071565e-01 -2.34516129e-01\n",
            "  3.07102352e-01 -1.79406416e+00  4.91505384e-01  1.00991750e+00\n",
            "  3.01166862e-01 -3.33783805e-01 -9.65893865e-02 -5.91479421e-01\n",
            " -1.01432347e+00 -2.66207546e-01 -7.37894118e-01  5.36108553e-01\n",
            " -6.27562925e-02 -4.29409921e-01 -4.55826744e-02  2.64746528e-02\n",
            " -5.45453548e-01  4.12165225e-01 -1.45001292e-01  6.07232690e-01\n",
            " -7.05851972e-01  7.16963649e-01 -3.03457022e-01  1.16254556e+00\n",
            "  1.67069122e-01  2.87846386e-01  4.75261271e-01 -6.12136066e-01\n",
            " -7.93124080e-01 -2.02693477e-01 -4.22359616e-01  5.32447755e-01\n",
            " -9.23089683e-01 -6.32194042e-01  1.63108721e-01  4.57216561e-01\n",
            " -1.16487801e+00 -5.50356686e-01  1.99677214e-01  7.65014470e-01\n",
            " -4.04018611e-01  6.51546359e-01  7.09016144e-01 -4.48776960e-01\n",
            " -7.75178611e-01 -2.22274557e-01 -6.00522578e-01  9.18571353e-01\n",
            " -2.32028350e-01 -3.84086847e-01 -4.24792320e-01  7.03709185e-01\n",
            " -6.57530189e-01 -1.91413071e-02 -1.24218605e-01  2.66999930e-01\n",
            " -2.18923852e-01  6.83985054e-01 -2.28983879e-01  5.85707009e-01\n",
            "  1.21546224e-01 -5.57012737e-01 -5.71421802e-01  9.09364372e-02\n",
            " -4.16866332e-01  1.59362525e-01  7.62170911e-01 -3.65746558e-01\n",
            "  8.66440773e-01 -1.60705686e-01 -4.18817759e-01 -1.39092728e-01\n",
            "  7.73471743e-02  2.94376779e-02 -3.31930846e-01  4.73864406e-01]\n"
          ],
          "name": "stdout"
        }
      ]
    },
    {
      "cell_type": "code",
      "metadata": {
        "id": "5c5utc3ks1lP",
        "colab_type": "code",
        "outputId": "45c8471b-1e2d-41ab-86b5-5f441faf3a3a",
        "colab": {
          "base_uri": "https://localhost:8080/",
          "height": 101
        }
      },
      "source": [
        "!pip install sklearn\n",
        "from sklearn.metrics.pairwise import cosine_similarity\n",
        "import scipy"
      ],
      "execution_count": 45,
      "outputs": [
        {
          "output_type": "stream",
          "text": [
            "Requirement already satisfied: sklearn in /usr/local/lib/python3.6/dist-packages (0.0)\n",
            "Requirement already satisfied: scikit-learn in /usr/local/lib/python3.6/dist-packages (from sklearn) (0.22.2.post1)\n",
            "Requirement already satisfied: joblib>=0.11 in /usr/local/lib/python3.6/dist-packages (from scikit-learn->sklearn) (0.14.1)\n",
            "Requirement already satisfied: numpy>=1.11.0 in /usr/local/lib/python3.6/dist-packages (from scikit-learn->sklearn) (1.18.3)\n",
            "Requirement already satisfied: scipy>=0.17.0 in /usr/local/lib/python3.6/dist-packages (from scikit-learn->sklearn) (1.4.1)\n"
          ],
          "name": "stdout"
        }
      ]
    },
    {
      "cell_type": "code",
      "metadata": {
        "id": "w9-Aj8gJsi6V",
        "colab_type": "code",
        "outputId": "3b475509-f683-45ed-fbbf-25df0141cf35",
        "colab": {
          "base_uri": "https://localhost:8080/",
          "height": 272
        }
      },
      "source": [
        "query = 'If Bats are the carrier' #@param {type: 'string'}\n",
        "\n",
        "queries = [query]\n",
        "query_embeddings = model.encode(queries)\n",
        "\n",
        "# Find the closest sentences of the corpus for each query sentence based on cosine similarity\n",
        "number_top_matches =  5#@param {type: \"number\"}\n",
        "\n",
        "print(\"Semantic Search Results\")\n",
        "\n",
        "for query, query_embedding in zip(queries, query_embeddings):\n",
        "    distances = scipy.spatial.distance.cdist([query_embedding], sentence_embeddings, \"cosine\")[0]\n",
        "\n",
        "    results = zip(range(len(distances)), distances)\n",
        "    results = sorted(results, key=lambda x: x[1])\n",
        "\n",
        "    print(\"\\n\\n======================\\n\\n\")\n",
        "    print(\"Query:\", query)\n",
        "    print(\"\\nTop 5 most similar sentences in corpus:\")\n",
        "\n",
        "    for idx, distance in results[0:number_top_matches]:\n",
        "        print(sentences[idx].strip(), \"(Cosine Score: %.4f)\" % (1-distance))"
      ],
      "execution_count": 47,
      "outputs": [
        {
          "output_type": "stream",
          "text": [
            "Semantic Search Results\n",
            "\n",
            "\n",
            "======================\n",
            "\n",
            "\n",
            "Query: If Bats are the carrier\n",
            "\n",
            "Top 5 most similar sentences in corpus:\n",
            "a1111111111 a1111111111 a1111111111 a1111111111 a1111111111 (Cosine Score: 0.3820)\n",
            "Bats and the viruses they harbor have been of interest to the scientific community due to the unique association with some high consequence human pathogens in the absence of overt pathology. Virologic and serologic reports in the literature demonstrate the exposure of bats worldwide to arboviruses (arthropod-borne viruses) of medical and veterinary importance [1] . However, the epidemiological significance of these observations is unclear as to whether or not bats are contributing to the circulation of arboviruses. (Cosine Score: 0.3818)\n",
            "body_text_text (Cosine Score: 0.3655)\n",
            "Are high-performing health systems resilient against the COVID-19 epidemic? (Cosine Score: 0.2425)\n",
            "The SARS epidemic of 2003, the global spread of swine-origin H1N1 influenza in 2009, the recent appearance of new hemorrhagic fevers [1, 2•] and pneumonias [3] , and the continuing threat posed by H5N1 avian influenza highlight the pressing need to understand the mechanisms that underpin viral emergence. Not surprisingly, the potential health consequences of a new pandemic have stimulated attempts to predict what types of virus might emerge in the future, as well as where and when such an emergence event will occur [4, 5•] . As the process of emergence is synonymous with the cross-species transmission of viruses to new hosts [6] [7] [8] , predicting what might emerge is essentially equivalent to predicting what viruses are better able to jump species boundaries and spread in new hosts. (Cosine Score: 0.1944)\n"
          ],
          "name": "stdout"
        }
      ]
    }
  ]
}